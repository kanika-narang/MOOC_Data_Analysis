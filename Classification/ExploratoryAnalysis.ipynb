{
 "cells": [
  {
   "cell_type": "code",
   "execution_count": 30,
   "metadata": {},
   "outputs": [
    {
     "name": "stderr",
     "output_type": "stream",
     "text": [
      "also installing the dependencies ‘memoise’, ‘whisker’, ‘rstudioapi’, ‘git2r’, ‘withr’\n",
      "\n",
      "Warning message in install.packages(c(\"repr\", \"IRdisplay\", \"evaluate\", \"crayon\", :\n",
      "“installation of package ‘git2r’ had non-zero exit status”Warning message in install.packages(c(\"repr\", \"IRdisplay\", \"evaluate\", \"crayon\", :\n",
      "“installation of package ‘pbdZMQ’ had non-zero exit status”Warning message in install.packages(c(\"repr\", \"IRdisplay\", \"evaluate\", \"crayon\", :\n",
      "“installation of package ‘devtools’ had non-zero exit status”Updating HTML index of packages in '.Library'\n",
      "Making 'packages.html' ... done\n"
     ]
    }
   ],
   "source": [
    "install.packages(c('repr', 'IRdisplay', 'evaluate', 'crayon', 'pbdZMQ', 'devtools', 'uuid', 'digest'))"
   ]
  },
  {
   "cell_type": "code",
   "execution_count": 29,
   "metadata": {},
   "outputs": [
    {
     "ename": "ERROR",
     "evalue": "Error in library(\"plotly\"): there is no package called ‘plotly’\n",
     "output_type": "error",
     "traceback": [
      "Error in library(\"plotly\"): there is no package called ‘plotly’\nTraceback:\n",
      "1. library(\"plotly\")",
      "2. stop(txt, domain = NA)"
     ]
    }
   ],
   "source": [
    "library('tidyverse');\n",
    "library('ggplot2');\n",
    "library('plotly');\n",
    "library('zoo');\n",
    "library('lubridate');\n",
    "library('ggrepel');\n",
    "library('tidytext');\n",
    "library('readr');\n",
    "library('DescTools');\n",
    "library('wordcloud');\n",
    "library('formattable');"
   ]
  },
  {
   "cell_type": "code",
   "execution_count": 6,
   "metadata": {
    "collapsed": true
   },
   "outputs": [],
   "source": [
    "data<-read.csv('/home/iiitb/DataAnalyticsProject/Data/cleaned data.csv')"
   ]
  },
  {
   "cell_type": "code",
   "execution_count": 7,
   "metadata": {},
   "outputs": [
    {
     "data": {
      "text/html": [
       "<table>\n",
       "<thead><tr><th scope=col>X.2</th><th scope=col>X.1</th><th scope=col>X</th><th scope=col>institute</th><th scope=col>course_id</th><th scope=col>year</th><th scope=col>semester</th><th scope=col>userid_DI</th><th scope=col>viewed</th><th scope=col>explored</th><th scope=col>⋯</th><th scope=col>grade</th><th scope=col>start_time_DI</th><th scope=col>last_event_DI</th><th scope=col>nevents</th><th scope=col>ndays_act</th><th scope=col>nplay_video</th><th scope=col>nchapters</th><th scope=col>nforum_posts</th><th scope=col>incomplete_flag</th><th scope=col>age</th></tr></thead>\n",
       "<tbody>\n",
       "\t<tr><td>19330         </td><td>19330         </td><td>19330         </td><td>HarvardX      </td><td>CS50x         </td><td>2012          </td><td>Summer        </td><td>MHxPC130288276</td><td>0             </td><td>0             </td><td>⋯             </td><td>0             </td><td>2013-08-30    </td><td>NA            </td><td>  0           </td><td>0             </td><td>197757        </td><td>0             </td><td>0             </td><td>0             </td><td> 0            </td></tr>\n",
       "\t<tr><td>19331         </td><td>19331         </td><td>19331         </td><td>HarvardX      </td><td>CS50x         </td><td>2012          </td><td>Summer        </td><td>MHxPC130422039</td><td>0             </td><td>0             </td><td>⋯             </td><td>0             </td><td>2012-07-24    </td><td>NA            </td><td>  0           </td><td>0             </td><td>197757        </td><td>0             </td><td>0             </td><td>0             </td><td>25            </td></tr>\n",
       "\t<tr><td>19332         </td><td>19332         </td><td>19332         </td><td>HarvardX      </td><td>CS50x         </td><td>2012          </td><td>Summer        </td><td>MHxPC130407931</td><td>0             </td><td>0             </td><td>⋯             </td><td>0             </td><td>2012-07-24    </td><td>NA            </td><td>  0           </td><td>0             </td><td>197757        </td><td>0             </td><td>0             </td><td>0             </td><td>44            </td></tr>\n",
       "\t<tr><td>19333         </td><td>19333         </td><td>19333         </td><td>HarvardX      </td><td>PH207x        </td><td>2012          </td><td>Fall          </td><td>MHxPC130313697</td><td>0             </td><td>0             </td><td>⋯             </td><td>0             </td><td>2012-07-24    </td><td>2013-07-27    </td><td>  6           </td><td>3             </td><td>197757        </td><td>0             </td><td>0             </td><td>0             </td><td>23            </td></tr>\n",
       "\t<tr><td>19334         </td><td>19334         </td><td>19334         </td><td>HarvardX      </td><td>CS50x         </td><td>2012          </td><td>Summer        </td><td>MHxPC130064950</td><td>0             </td><td>0             </td><td>⋯             </td><td>0             </td><td>2012-07-24    </td><td>NA            </td><td>  0           </td><td>0             </td><td>197757        </td><td>0             </td><td>0             </td><td>0             </td><td>34            </td></tr>\n",
       "\t<tr><td>19335         </td><td>19335         </td><td>19335         </td><td>HarvardX      </td><td>PH207x        </td><td>2012          </td><td>Fall          </td><td>MHxPC130237753</td><td>1             </td><td>0             </td><td>⋯             </td><td>0             </td><td>2012-07-24    </td><td>2012-12-24    </td><td>107           </td><td>8             </td><td>     7        </td><td>2             </td><td>0             </td><td>0             </td><td>19            </td></tr>\n",
       "</tbody>\n",
       "</table>\n"
      ],
      "text/latex": [
       "\\begin{tabular}{r|lllllllllllllllllllllllll}\n",
       " X.2 & X.1 & X & institute & course\\_id & year & semester & userid\\_DI & viewed & explored & ⋯ & grade & start\\_time\\_DI & last\\_event\\_DI & nevents & ndays\\_act & nplay\\_video & nchapters & nforum\\_posts & incomplete\\_flag & age\\\\\n",
       "\\hline\n",
       "\t 19330          & 19330          & 19330          & HarvardX       & CS50x          & 2012           & Summer         & MHxPC130288276 & 0              & 0              & ⋯              & 0              & 2013-08-30     & NA             &   0            & 0              & 197757         & 0              & 0              & 0              &  0            \\\\\n",
       "\t 19331          & 19331          & 19331          & HarvardX       & CS50x          & 2012           & Summer         & MHxPC130422039 & 0              & 0              & ⋯              & 0              & 2012-07-24     & NA             &   0            & 0              & 197757         & 0              & 0              & 0              & 25            \\\\\n",
       "\t 19332          & 19332          & 19332          & HarvardX       & CS50x          & 2012           & Summer         & MHxPC130407931 & 0              & 0              & ⋯              & 0              & 2012-07-24     & NA             &   0            & 0              & 197757         & 0              & 0              & 0              & 44            \\\\\n",
       "\t 19333          & 19333          & 19333          & HarvardX       & PH207x         & 2012           & Fall           & MHxPC130313697 & 0              & 0              & ⋯              & 0              & 2012-07-24     & 2013-07-27     &   6            & 3              & 197757         & 0              & 0              & 0              & 23            \\\\\n",
       "\t 19334          & 19334          & 19334          & HarvardX       & CS50x          & 2012           & Summer         & MHxPC130064950 & 0              & 0              & ⋯              & 0              & 2012-07-24     & NA             &   0            & 0              & 197757         & 0              & 0              & 0              & 34            \\\\\n",
       "\t 19335          & 19335          & 19335          & HarvardX       & PH207x         & 2012           & Fall           & MHxPC130237753 & 1              & 0              & ⋯              & 0              & 2012-07-24     & 2012-12-24     & 107            & 8              &      7         & 2              & 0              & 0              & 19            \\\\\n",
       "\\end{tabular}\n"
      ],
      "text/markdown": [
       "\n",
       "X.2 | X.1 | X | institute | course_id | year | semester | userid_DI | viewed | explored | ⋯ | grade | start_time_DI | last_event_DI | nevents | ndays_act | nplay_video | nchapters | nforum_posts | incomplete_flag | age | \n",
       "|---|---|---|---|---|---|\n",
       "| 19330          | 19330          | 19330          | HarvardX       | CS50x          | 2012           | Summer         | MHxPC130288276 | 0              | 0              | ⋯              | 0              | 2013-08-30     | NA             |   0            | 0              | 197757         | 0              | 0              | 0              |  0             | \n",
       "| 19331          | 19331          | 19331          | HarvardX       | CS50x          | 2012           | Summer         | MHxPC130422039 | 0              | 0              | ⋯              | 0              | 2012-07-24     | NA             |   0            | 0              | 197757         | 0              | 0              | 0              | 25             | \n",
       "| 19332          | 19332          | 19332          | HarvardX       | CS50x          | 2012           | Summer         | MHxPC130407931 | 0              | 0              | ⋯              | 0              | 2012-07-24     | NA             |   0            | 0              | 197757         | 0              | 0              | 0              | 44             | \n",
       "| 19333          | 19333          | 19333          | HarvardX       | PH207x         | 2012           | Fall           | MHxPC130313697 | 0              | 0              | ⋯              | 0              | 2012-07-24     | 2013-07-27     |   6            | 3              | 197757         | 0              | 0              | 0              | 23             | \n",
       "| 19334          | 19334          | 19334          | HarvardX       | CS50x          | 2012           | Summer         | MHxPC130064950 | 0              | 0              | ⋯              | 0              | 2012-07-24     | NA             |   0            | 0              | 197757         | 0              | 0              | 0              | 34             | \n",
       "| 19335          | 19335          | 19335          | HarvardX       | PH207x         | 2012           | Fall           | MHxPC130237753 | 1              | 0              | ⋯              | 0              | 2012-07-24     | 2012-12-24     | 107            | 8              |      7         | 2              | 0              | 0              | 19             | \n",
       "\n",
       "\n"
      ],
      "text/plain": [
       "  X.2   X.1   X     institute course_id year semester userid_DI      viewed\n",
       "1 19330 19330 19330 HarvardX  CS50x     2012 Summer   MHxPC130288276 0     \n",
       "2 19331 19331 19331 HarvardX  CS50x     2012 Summer   MHxPC130422039 0     \n",
       "3 19332 19332 19332 HarvardX  CS50x     2012 Summer   MHxPC130407931 0     \n",
       "4 19333 19333 19333 HarvardX  PH207x    2012 Fall     MHxPC130313697 0     \n",
       "5 19334 19334 19334 HarvardX  CS50x     2012 Summer   MHxPC130064950 0     \n",
       "6 19335 19335 19335 HarvardX  PH207x    2012 Fall     MHxPC130237753 1     \n",
       "  explored ⋯ grade start_time_DI last_event_DI nevents ndays_act nplay_video\n",
       "1 0        ⋯ 0     2013-08-30    NA              0     0         197757     \n",
       "2 0        ⋯ 0     2012-07-24    NA              0     0         197757     \n",
       "3 0        ⋯ 0     2012-07-24    NA              0     0         197757     \n",
       "4 0        ⋯ 0     2012-07-24    2013-07-27      6     3         197757     \n",
       "5 0        ⋯ 0     2012-07-24    NA              0     0         197757     \n",
       "6 0        ⋯ 0     2012-07-24    2012-12-24    107     8              7     \n",
       "  nchapters nforum_posts incomplete_flag age\n",
       "1 0         0            0                0 \n",
       "2 0         0            0               25 \n",
       "3 0         0            0               44 \n",
       "4 0         0            0               23 \n",
       "5 0         0            0               34 \n",
       "6 2         0            0               19 "
      ]
     },
     "metadata": {},
     "output_type": "display_data"
    }
   ],
   "source": [
    "head(data)"
   ]
  },
  {
   "cell_type": "code",
   "execution_count": 8,
   "metadata": {},
   "outputs": [
    {
     "data": {
      "text/html": [
       "<table>\n",
       "<thead><tr><th></th><th scope=col>X.2</th><th scope=col>X.1</th><th scope=col>X</th><th scope=col>institute</th><th scope=col>course_id</th><th scope=col>year</th><th scope=col>semester</th><th scope=col>userid_DI</th><th scope=col>viewed</th><th scope=col>explored</th><th scope=col>⋯</th><th scope=col>grade</th><th scope=col>start_time_DI</th><th scope=col>last_event_DI</th><th scope=col>nevents</th><th scope=col>ndays_act</th><th scope=col>nplay_video</th><th scope=col>nchapters</th><th scope=col>nforum_posts</th><th scope=col>incomplete_flag</th><th scope=col>age</th></tr></thead>\n",
       "<tbody>\n",
       "\t<tr><th scope=row>466492</th><td>524624        </td><td>524624        </td><td>524624        </td><td>MITx          </td><td>6.00x         </td><td>2013          </td><td>Spring        </td><td>MHxPC130487518</td><td>1             </td><td>0             </td><td>⋯             </td><td>0.00          </td><td>2013-01-11    </td><td>2013-01-15    </td><td>   4          </td><td> 2            </td><td>197757        </td><td> 1            </td><td>0             </td><td>0             </td><td>28            </td></tr>\n",
       "\t<tr><th scope=row>466493</th><td>524625        </td><td>524625        </td><td>524625        </td><td>MITx          </td><td>14.73x        </td><td>2013          </td><td>Spring        </td><td>MHxPC130174603</td><td>0             </td><td>0             </td><td>⋯             </td><td>0.00          </td><td>2013-01-11    </td><td>2013-01-11    </td><td>   1          </td><td> 1            </td><td>197757        </td><td> 0            </td><td>0             </td><td>0             </td><td>38            </td></tr>\n",
       "\t<tr><th scope=row>466494</th><td>524626        </td><td>524626        </td><td>524626        </td><td>MITx          </td><td>6.00x         </td><td>2013          </td><td>Spring        </td><td>MHxPC130131103</td><td>1             </td><td>0             </td><td>⋯             </td><td>0.00          </td><td>2013-01-11    </td><td>2013-01-11    </td><td>   1          </td><td> 1            </td><td>197757        </td><td> 0            </td><td>0             </td><td>0             </td><td>33            </td></tr>\n",
       "\t<tr><th scope=row>466495</th><td>524627        </td><td>524627        </td><td>524627        </td><td>MITx          </td><td>6.002x        </td><td>2013          </td><td>Spring        </td><td>MHxPC130317701</td><td>1             </td><td>1             </td><td>⋯             </td><td>0.92          </td><td>2013-01-11    </td><td>2013-07-19    </td><td>4615          </td><td>77            </td><td>   348        </td><td>19            </td><td>0             </td><td>0             </td><td>23            </td></tr>\n",
       "\t<tr><th scope=row>466496</th><td>524628        </td><td>524628        </td><td>524628        </td><td>MITx          </td><td>6.002x        </td><td>2013          </td><td>Spring        </td><td>MHxPC130349539</td><td>0             </td><td>0             </td><td>⋯             </td><td>0.00          </td><td>2013-01-11    </td><td>NA            </td><td>   0          </td><td> 0            </td><td>197757        </td><td> 0            </td><td>0             </td><td>0             </td><td>25            </td></tr>\n",
       "\t<tr><th scope=row>466497</th><td>524629        </td><td>524629        </td><td>524629        </td><td>MITx          </td><td>14.73x        </td><td>2013          </td><td>Spring        </td><td>MHxPC130012732</td><td>1             </td><td>0             </td><td>⋯             </td><td>0.00          </td><td>2013-01-11    </td><td>2013-02-24    </td><td>  30          </td><td> 5            </td><td>     1        </td><td> 1            </td><td>0             </td><td>0             </td><td>33            </td></tr>\n",
       "</tbody>\n",
       "</table>\n"
      ],
      "text/latex": [
       "\\begin{tabular}{r|lllllllllllllllllllllllll}\n",
       "  & X.2 & X.1 & X & institute & course\\_id & year & semester & userid\\_DI & viewed & explored & ⋯ & grade & start\\_time\\_DI & last\\_event\\_DI & nevents & ndays\\_act & nplay\\_video & nchapters & nforum\\_posts & incomplete\\_flag & age\\\\\n",
       "\\hline\n",
       "\t466492 & 524624         & 524624         & 524624         & MITx           & 6.00x          & 2013           & Spring         & MHxPC130487518 & 1              & 0              & ⋯              & 0.00           & 2013-01-11     & 2013-01-15     &    4           &  2             & 197757         &  1             & 0              & 0              & 28            \\\\\n",
       "\t466493 & 524625         & 524625         & 524625         & MITx           & 14.73x         & 2013           & Spring         & MHxPC130174603 & 0              & 0              & ⋯              & 0.00           & 2013-01-11     & 2013-01-11     &    1           &  1             & 197757         &  0             & 0              & 0              & 38            \\\\\n",
       "\t466494 & 524626         & 524626         & 524626         & MITx           & 6.00x          & 2013           & Spring         & MHxPC130131103 & 1              & 0              & ⋯              & 0.00           & 2013-01-11     & 2013-01-11     &    1           &  1             & 197757         &  0             & 0              & 0              & 33            \\\\\n",
       "\t466495 & 524627         & 524627         & 524627         & MITx           & 6.002x         & 2013           & Spring         & MHxPC130317701 & 1              & 1              & ⋯              & 0.92           & 2013-01-11     & 2013-07-19     & 4615           & 77             &    348         & 19             & 0              & 0              & 23            \\\\\n",
       "\t466496 & 524628         & 524628         & 524628         & MITx           & 6.002x         & 2013           & Spring         & MHxPC130349539 & 0              & 0              & ⋯              & 0.00           & 2013-01-11     & NA             &    0           &  0             & 197757         &  0             & 0              & 0              & 25            \\\\\n",
       "\t466497 & 524629         & 524629         & 524629         & MITx           & 14.73x         & 2013           & Spring         & MHxPC130012732 & 1              & 0              & ⋯              & 0.00           & 2013-01-11     & 2013-02-24     &   30           &  5             &      1         &  1             & 0              & 0              & 33            \\\\\n",
       "\\end{tabular}\n"
      ],
      "text/markdown": [
       "\n",
       "| <!--/--> | X.2 | X.1 | X | institute | course_id | year | semester | userid_DI | viewed | explored | ⋯ | grade | start_time_DI | last_event_DI | nevents | ndays_act | nplay_video | nchapters | nforum_posts | incomplete_flag | age | \n",
       "|---|---|---|---|---|---|\n",
       "| 466492 | 524624         | 524624         | 524624         | MITx           | 6.00x          | 2013           | Spring         | MHxPC130487518 | 1              | 0              | ⋯              | 0.00           | 2013-01-11     | 2013-01-15     |    4           |  2             | 197757         |  1             | 0              | 0              | 28             | \n",
       "| 466493 | 524625         | 524625         | 524625         | MITx           | 14.73x         | 2013           | Spring         | MHxPC130174603 | 0              | 0              | ⋯              | 0.00           | 2013-01-11     | 2013-01-11     |    1           |  1             | 197757         |  0             | 0              | 0              | 38             | \n",
       "| 466494 | 524626         | 524626         | 524626         | MITx           | 6.00x          | 2013           | Spring         | MHxPC130131103 | 1              | 0              | ⋯              | 0.00           | 2013-01-11     | 2013-01-11     |    1           |  1             | 197757         |  0             | 0              | 0              | 33             | \n",
       "| 466495 | 524627         | 524627         | 524627         | MITx           | 6.002x         | 2013           | Spring         | MHxPC130317701 | 1              | 1              | ⋯              | 0.92           | 2013-01-11     | 2013-07-19     | 4615           | 77             |    348         | 19             | 0              | 0              | 23             | \n",
       "| 466496 | 524628         | 524628         | 524628         | MITx           | 6.002x         | 2013           | Spring         | MHxPC130349539 | 0              | 0              | ⋯              | 0.00           | 2013-01-11     | NA             |    0           |  0             | 197757         |  0             | 0              | 0              | 25             | \n",
       "| 466497 | 524629         | 524629         | 524629         | MITx           | 14.73x         | 2013           | Spring         | MHxPC130012732 | 1              | 0              | ⋯              | 0.00           | 2013-01-11     | 2013-02-24     |   30           |  5             |      1         |  1             | 0              | 0              | 33             | \n",
       "\n",
       "\n"
      ],
      "text/plain": [
       "       X.2    X.1    X      institute course_id year semester userid_DI     \n",
       "466492 524624 524624 524624 MITx      6.00x     2013 Spring   MHxPC130487518\n",
       "466493 524625 524625 524625 MITx      14.73x    2013 Spring   MHxPC130174603\n",
       "466494 524626 524626 524626 MITx      6.00x     2013 Spring   MHxPC130131103\n",
       "466495 524627 524627 524627 MITx      6.002x    2013 Spring   MHxPC130317701\n",
       "466496 524628 524628 524628 MITx      6.002x    2013 Spring   MHxPC130349539\n",
       "466497 524629 524629 524629 MITx      14.73x    2013 Spring   MHxPC130012732\n",
       "       viewed explored ⋯ grade start_time_DI last_event_DI nevents ndays_act\n",
       "466492 1      0        ⋯ 0.00  2013-01-11    2013-01-15       4     2       \n",
       "466493 0      0        ⋯ 0.00  2013-01-11    2013-01-11       1     1       \n",
       "466494 1      0        ⋯ 0.00  2013-01-11    2013-01-11       1     1       \n",
       "466495 1      1        ⋯ 0.92  2013-01-11    2013-07-19    4615    77       \n",
       "466496 0      0        ⋯ 0.00  2013-01-11    NA               0     0       \n",
       "466497 1      0        ⋯ 0.00  2013-01-11    2013-02-24      30     5       \n",
       "       nplay_video nchapters nforum_posts incomplete_flag age\n",
       "466492 197757       1        0            0               28 \n",
       "466493 197757       0        0            0               38 \n",
       "466494 197757       0        0            0               33 \n",
       "466495    348      19        0            0               23 \n",
       "466496 197757       0        0            0               25 \n",
       "466497      1       1        0            0               33 "
      ]
     },
     "metadata": {},
     "output_type": "display_data"
    }
   ],
   "source": [
    "tail(data)"
   ]
  },
  {
   "cell_type": "code",
   "execution_count": 9,
   "metadata": {},
   "outputs": [
    {
     "data": {
      "text/plain": [
       "      X.2              X.1               X             institute     \n",
       " Min.   : 19330   Min.   : 19330   Min.   : 19330   HarvardX:318894  \n",
       " 1st Qu.:135954   1st Qu.:135954   1st Qu.:135954   MITx    :147603  \n",
       " Median :252578   Median :252578   Median :252578                    \n",
       " Mean   :264856   Mean   :264856   Mean   :264856                    \n",
       " 3rd Qu.:408005   3rd Qu.:408005   3rd Qu.:408005                    \n",
       " Max.   :524629   Max.   :524629   Max.   :524629                    \n",
       "                                                                     \n",
       "   course_id           year        semester               userid_DI     \n",
       " CS50x  :157728   Min.   :2012   Fall  :233878   MHxPC130027283:    16  \n",
       " 6.00x  : 75324   1st Qu.:2012   Spring:184154   MHxPC130464954:    16  \n",
       " ER22x  : 54732   Median :2012   Summer: 48465   MHxPC130043781:    15  \n",
       " PH207x : 40186   Mean   :2012                   MHxPC130156822:    15  \n",
       " PH278x : 38125   3rd Qu.:2013                   MHxPC130165828:    15  \n",
       " 6.002x : 34294   Max.   :2013                   MHxPC130203535:    15  \n",
       " (Other): 66108                                  (Other)       :466405  \n",
       "     viewed          explored         certified            final_cc_cname_DI \n",
       " Min.   :0.0000   Min.   :0.00000   Min.   :0.00000   United States :135027  \n",
       " 1st Qu.:0.0000   1st Qu.:0.00000   1st Qu.:0.00000   Unknown/Other : 74152  \n",
       " Median :1.0000   Median :0.00000   Median :0.00000   India         : 57829  \n",
       " Mean   :0.5946   Mean   :0.06015   Mean   :0.02459   Other Europe  : 27491  \n",
       " 3rd Qu.:1.0000   3rd Qu.:0.00000   3rd Qu.:0.00000   Other Africa  : 18537  \n",
       " Max.   :1.0000   Max.   :1.00000   Max.   :1.00000   United Kingdom: 14932  \n",
       "                                                      (Other)       :138529  \n",
       "                 LoE_DI            YoB        gender         grade      \n",
       " Bachelor's         :209080   Min.   :1931     : 20016   Min.   :0.00   \n",
       " Doctorate          : 11268   1st Qu.:1981    f:119188   1st Qu.:0.00   \n",
       " Less than Secondary: 10975   Median :1987    m:327276   Median :0.00   \n",
       " Master's           : 99154   Mean   :1985    o:    17   Mean   :0.03   \n",
       " Secondary          :136020   3rd Qu.:1991               3rd Qu.:0.00   \n",
       "                              Max.   :2013               Max.   :1.00   \n",
       "                              NA's   :27601              NA's   :32784  \n",
       "    start_time_DI       last_event_DI       nevents          ndays_act      \n",
       " 2012-10-15:  6545   2013-11-17:  6442   Min.   :    0.0   Min.   :  0.000  \n",
       " 2012-08-17:  5908   2013-03-13:  3371   1st Qu.:    0.0   1st Qu.:  0.000  \n",
       " 2012-08-13:  5073   2012-10-16:  3064   Median :    2.0   Median :  1.000  \n",
       " 2012-12-20:  4652   2012-10-15:  2875   Mean   :  238.4   Mean   :  3.793  \n",
       " 2012-12-21:  4622   2013-03-14:  2425   3rd Qu.:   46.0   3rd Qu.:  3.000  \n",
       " 2012-08-18:  4524   (Other)   :294911   Max.   :53180.0   Max.   :205.000  \n",
       " (Other)   :435173   NA's      :153409                                      \n",
       "  nplay_video       nchapters       nforum_posts     incomplete_flag \n",
       " Min.   :     1   Min.   : 0.000   Min.   :0.00000   Min.   :0.0000  \n",
       " 1st Qu.:197757   1st Qu.: 0.000   1st Qu.:0.00000   1st Qu.:0.0000  \n",
       " Median :197757   Median : 1.000   Median :0.00000   Median :0.0000  \n",
       " Mean   :153499   Mean   : 2.066   Mean   :0.01233   Mean   :0.1685  \n",
       " 3rd Qu.:197757   3rd Qu.: 2.000   3rd Qu.:0.00000   3rd Qu.:0.0000  \n",
       " Max.   :197757   Max.   :47.000   Max.   :8.00000   Max.   :1.0000  \n",
       "                                                                     \n",
       "      age       \n",
       " Min.   :-1.00  \n",
       " 1st Qu.:22.00  \n",
       " Median :25.00  \n",
       " Mean   :27.35  \n",
       " 3rd Qu.:30.00  \n",
       " Max.   :82.00  \n",
       "                "
      ]
     },
     "metadata": {},
     "output_type": "display_data"
    }
   ],
   "source": [
    "summary(data)"
   ]
  },
  {
   "cell_type": "code",
   "execution_count": 32,
   "metadata": {},
   "outputs": [
    {
     "data": {
      "text/html": [
       "<strong>CS50x:</strong> 157728"
      ],
      "text/latex": [
       "\\textbf{CS50x:} 157728"
      ],
      "text/markdown": [
       "**CS50x:** 157728"
      ],
      "text/plain": [
       " CS50x \n",
       "157728 "
      ]
     },
     "metadata": {},
     "output_type": "display_data"
    }
   ],
   "source": [
    "course_freq<-sort(table(data$course_id),decreasing=TRUE)[1:10]\n",
    "course_freq[1]"
   ]
  },
  {
   "cell_type": "code",
   "execution_count": 37,
   "metadata": {},
   "outputs": [
    {
     "data": {
      "text/html": [
       "<ol class=list-inline>\n",
       "\t<li>'CS50x'</li>\n",
       "\t<li>'6.00x'</li>\n",
       "\t<li>'ER22x'</li>\n",
       "\t<li>'PH207x'</li>\n",
       "\t<li>'PH278x'</li>\n",
       "\t<li>'6.002x'</li>\n",
       "\t<li>'CB22x'</li>\n",
       "\t<li>'3.091x'</li>\n",
       "\t<li>'8.02x'</li>\n",
       "\t<li>'14.73x'</li>\n",
       "</ol>\n"
      ],
      "text/latex": [
       "\\begin{enumerate*}\n",
       "\\item 'CS50x'\n",
       "\\item '6.00x'\n",
       "\\item 'ER22x'\n",
       "\\item 'PH207x'\n",
       "\\item 'PH278x'\n",
       "\\item '6.002x'\n",
       "\\item 'CB22x'\n",
       "\\item '3.091x'\n",
       "\\item '8.02x'\n",
       "\\item '14.73x'\n",
       "\\end{enumerate*}\n"
      ],
      "text/markdown": [
       "1. 'CS50x'\n",
       "2. '6.00x'\n",
       "3. 'ER22x'\n",
       "4. 'PH207x'\n",
       "5. 'PH278x'\n",
       "6. '6.002x'\n",
       "7. 'CB22x'\n",
       "8. '3.091x'\n",
       "9. '8.02x'\n",
       "10. '14.73x'\n",
       "\n",
       "\n"
      ],
      "text/plain": [
       " [1] \"CS50x\"  \"6.00x\"  \"ER22x\"  \"PH207x\" \"PH278x\" \"6.002x\" \"CB22x\"  \"3.091x\"\n",
       " [9] \"8.02x\"  \"14.73x\""
      ]
     },
     "metadata": {},
     "output_type": "display_data"
    }
   ],
   "source": [
    "top_10_course_id<-rownames(course_freq)\n",
    "top_10_course_id"
   ]
  },
  {
   "cell_type": "code",
   "execution_count": 44,
   "metadata": {},
   "outputs": [
    {
     "data": {
      "text/html": [
       "157728"
      ],
      "text/latex": [
       "157728"
      ],
      "text/markdown": [
       "157728"
      ],
      "text/plain": [
       "[1] 157728"
      ]
     },
     "metadata": {},
     "output_type": "display_data"
    },
    {
     "data": {
      "text/html": [
       "<ol class=list-inline>\n",
       "\t<li>157728</li>\n",
       "\t<li>75324</li>\n",
       "\t<li>54732</li>\n",
       "\t<li>40186</li>\n",
       "\t<li>38125</li>\n",
       "\t<li>34294</li>\n",
       "\t<li>28123</li>\n",
       "\t<li>14091</li>\n",
       "\t<li>8287</li>\n",
       "\t<li>7993</li>\n",
       "</ol>\n"
      ],
      "text/latex": [
       "\\begin{enumerate*}\n",
       "\\item 157728\n",
       "\\item 75324\n",
       "\\item 54732\n",
       "\\item 40186\n",
       "\\item 38125\n",
       "\\item 34294\n",
       "\\item 28123\n",
       "\\item 14091\n",
       "\\item 8287\n",
       "\\item 7993\n",
       "\\end{enumerate*}\n"
      ],
      "text/markdown": [
       "1. 157728\n",
       "2. 75324\n",
       "3. 54732\n",
       "4. 40186\n",
       "5. 38125\n",
       "6. 34294\n",
       "7. 28123\n",
       "8. 14091\n",
       "9. 8287\n",
       "10. 7993\n",
       "\n",
       "\n"
      ],
      "text/plain": [
       " [1] 157728  75324  54732  40186  38125  34294  28123  14091   8287   7993"
      ]
     },
     "metadata": {},
     "output_type": "display_data"
    },
    {
     "data": {
      "text/html": [
       "<ol class=list-inline>\n",
       "\t<li>'CS50x'</li>\n",
       "\t<li>'6.00x'</li>\n",
       "\t<li>'ER22x'</li>\n",
       "\t<li>'PH207x'</li>\n",
       "\t<li>'PH278x'</li>\n",
       "\t<li>'6.002x'</li>\n",
       "\t<li>'CB22x'</li>\n",
       "\t<li>'3.091x'</li>\n",
       "\t<li>'8.02x'</li>\n",
       "\t<li>'14.73x'</li>\n",
       "\t<li>'157728'</li>\n",
       "\t<li>'75324'</li>\n",
       "\t<li>'54732'</li>\n",
       "\t<li>'40186'</li>\n",
       "\t<li>'38125'</li>\n",
       "\t<li>'34294'</li>\n",
       "\t<li>'28123'</li>\n",
       "\t<li>'14091'</li>\n",
       "\t<li>'8287'</li>\n",
       "\t<li>'7993'</li>\n",
       "</ol>\n"
      ],
      "text/latex": [
       "\\begin{enumerate*}\n",
       "\\item 'CS50x'\n",
       "\\item '6.00x'\n",
       "\\item 'ER22x'\n",
       "\\item 'PH207x'\n",
       "\\item 'PH278x'\n",
       "\\item '6.002x'\n",
       "\\item 'CB22x'\n",
       "\\item '3.091x'\n",
       "\\item '8.02x'\n",
       "\\item '14.73x'\n",
       "\\item '157728'\n",
       "\\item '75324'\n",
       "\\item '54732'\n",
       "\\item '40186'\n",
       "\\item '38125'\n",
       "\\item '34294'\n",
       "\\item '28123'\n",
       "\\item '14091'\n",
       "\\item '8287'\n",
       "\\item '7993'\n",
       "\\end{enumerate*}\n"
      ],
      "text/markdown": [
       "1. 'CS50x'\n",
       "2. '6.00x'\n",
       "3. 'ER22x'\n",
       "4. 'PH207x'\n",
       "5. 'PH278x'\n",
       "6. '6.002x'\n",
       "7. 'CB22x'\n",
       "8. '3.091x'\n",
       "9. '8.02x'\n",
       "10. '14.73x'\n",
       "11. '157728'\n",
       "12. '75324'\n",
       "13. '54732'\n",
       "14. '40186'\n",
       "15. '38125'\n",
       "16. '34294'\n",
       "17. '28123'\n",
       "18. '14091'\n",
       "19. '8287'\n",
       "20. '7993'\n",
       "\n",
       "\n"
      ],
      "text/plain": [
       " [1] \"CS50x\"  \"6.00x\"  \"ER22x\"  \"PH207x\" \"PH278x\" \"6.002x\" \"CB22x\"  \"3.091x\"\n",
       " [9] \"8.02x\"  \"14.73x\" \"157728\" \"75324\"  \"54732\"  \"40186\"  \"38125\"  \"34294\" \n",
       "[17] \"28123\"  \"14091\"  \"8287\"   \"7993\"  "
      ]
     },
     "metadata": {},
     "output_type": "display_data"
    }
   ],
   "source": [
    "course_freq[[1]]\n",
    "#colnames(course_freq)<-c(\"course\",\"count\")\n",
    "#course_freqq\n",
    "course_freq_count<-c()\n",
    "for(i in 1:10){\n",
    "    course_freq_count<-c(course_freq_count, course_freq[[i]])\n",
    "}\n",
    "course_freq_count\n",
    "\n"
   ]
  },
  {
   "cell_type": "code",
   "execution_count": 45,
   "metadata": {},
   "outputs": [
    {
     "data": {
      "text/html": [
       "<table>\n",
       "<thead><tr><th scope=col>top_10_course_id</th><th scope=col>course_freq_count</th></tr></thead>\n",
       "<tbody>\n",
       "\t<tr><td>CS50x </td><td>157728</td></tr>\n",
       "\t<tr><td>6.00x </td><td> 75324</td></tr>\n",
       "\t<tr><td>ER22x </td><td> 54732</td></tr>\n",
       "\t<tr><td>PH207x</td><td> 40186</td></tr>\n",
       "\t<tr><td>PH278x</td><td> 38125</td></tr>\n",
       "\t<tr><td>6.002x</td><td> 34294</td></tr>\n",
       "\t<tr><td>CB22x </td><td> 28123</td></tr>\n",
       "\t<tr><td>3.091x</td><td> 14091</td></tr>\n",
       "\t<tr><td>8.02x </td><td>  8287</td></tr>\n",
       "\t<tr><td>14.73x</td><td>  7993</td></tr>\n",
       "</tbody>\n",
       "</table>\n"
      ],
      "text/latex": [
       "\\begin{tabular}{r|ll}\n",
       " top\\_10\\_course\\_id & course\\_freq\\_count\\\\\n",
       "\\hline\n",
       "\t CS50x  & 157728\\\\\n",
       "\t 6.00x  &  75324\\\\\n",
       "\t ER22x  &  54732\\\\\n",
       "\t PH207x &  40186\\\\\n",
       "\t PH278x &  38125\\\\\n",
       "\t 6.002x &  34294\\\\\n",
       "\t CB22x  &  28123\\\\\n",
       "\t 3.091x &  14091\\\\\n",
       "\t 8.02x  &   8287\\\\\n",
       "\t 14.73x &   7993\\\\\n",
       "\\end{tabular}\n"
      ],
      "text/markdown": [
       "\n",
       "top_10_course_id | course_freq_count | \n",
       "|---|---|---|---|---|---|---|---|---|---|\n",
       "| CS50x  | 157728 | \n",
       "| 6.00x  |  75324 | \n",
       "| ER22x  |  54732 | \n",
       "| PH207x |  40186 | \n",
       "| PH278x |  38125 | \n",
       "| 6.002x |  34294 | \n",
       "| CB22x  |  28123 | \n",
       "| 3.091x |  14091 | \n",
       "| 8.02x  |   8287 | \n",
       "| 14.73x |   7993 | \n",
       "\n",
       "\n"
      ],
      "text/plain": [
       "   top_10_course_id course_freq_count\n",
       "1  CS50x            157728           \n",
       "2  6.00x             75324           \n",
       "3  ER22x             54732           \n",
       "4  PH207x            40186           \n",
       "5  PH278x            38125           \n",
       "6  6.002x            34294           \n",
       "7  CB22x             28123           \n",
       "8  3.091x            14091           \n",
       "9  8.02x              8287           \n",
       "10 14.73x             7993           "
      ]
     },
     "metadata": {},
     "output_type": "display_data"
    }
   ],
   "source": [
    "#courses_and_freq<-c(top_10_course_id,course_freq_count)\n",
    "#courses_and_freq\n",
    "courses_and_freq<-data.frame(top_10_course_id,course_freq_count)\n",
    "courses_and_freq"
   ]
  },
  {
   "cell_type": "code",
   "execution_count": 78,
   "metadata": {},
   "outputs": [
    {
     "data": {},
     "metadata": {},
     "output_type": "display_data"
    },
    {
     "data": {
      "image/png": "[encoded data removed]",
      "text/plain": [
       "plot without title"
      ]
     },
     "metadata": {},
     "output_type": "display_data"
    }
   ],
   "source": [
    "library(ggplot2)\n",
    "\n",
    "\n",
    "course_freq_plot <- \n",
    "  ggplot(courses_and_freq, aes(top_10_course_id, course_freq_count)) + \n",
    "  geom_bar(stat=\"identity\", colour=\"black\", fill=\"white\") + \n",
    "  xlab(\"Courses\") + ylab(\"Participants\") \n",
    "\n",
    "course_freq_plot"
   ]
  },
  {
   "cell_type": "code",
   "execution_count": 13,
   "metadata": {},
   "outputs": [
    {
     "data": {
      "text/plain": [
       "\n",
       " 2.01x 8.MReV  7.00x 14.73x  8.02x 3.091x  CB22x 6.002x PH278x PH207x \n",
       "  1097   1632   4885   7993   8287  14091  28123  34294  38125  40186 "
      ]
     },
     "metadata": {},
     "output_type": "display_data"
    }
   ],
   "source": [
    "sort(table(data$course_id),decreasing=FALSE)[1:10]"
   ]
  },
  {
   "cell_type": "code",
   "execution_count": 57,
   "metadata": {},
   "outputs": [
    {
     "data": {
      "text/plain": [
       "\n",
       "  Fall Spring Summer \n",
       "233878 184154  48465 "
      ]
     },
     "metadata": {},
     "output_type": "display_data"
    }
   ],
   "source": [
    "semester_freq<-sort(table(data$semester),decreasing=TRUE)[1:3]\n",
    "semester_freq"
   ]
  },
  {
   "cell_type": "code",
   "execution_count": 61,
   "metadata": {},
   "outputs": [
    {
     "data": {
      "text/html": [
       "<ol class=list-inline>\n",
       "\t<li>'Fall'</li>\n",
       "\t<li>'Spring'</li>\n",
       "\t<li>'Summer'</li>\n",
       "</ol>\n"
      ],
      "text/latex": [
       "\\begin{enumerate*}\n",
       "\\item 'Fall'\n",
       "\\item 'Spring'\n",
       "\\item 'Summer'\n",
       "\\end{enumerate*}\n"
      ],
      "text/markdown": [
       "1. 'Fall'\n",
       "2. 'Spring'\n",
       "3. 'Summer'\n",
       "\n",
       "\n"
      ],
      "text/plain": [
       "[1] \"Fall\"   \"Spring\" \"Summer\""
      ]
     },
     "metadata": {},
     "output_type": "display_data"
    },
    {
     "data": {
      "text/html": [
       "<ol class=list-inline>\n",
       "\t<li>233878</li>\n",
       "\t<li>184154</li>\n",
       "\t<li>48465</li>\n",
       "</ol>\n"
      ],
      "text/latex": [
       "\\begin{enumerate*}\n",
       "\\item 233878\n",
       "\\item 184154\n",
       "\\item 48465\n",
       "\\end{enumerate*}\n"
      ],
      "text/markdown": [
       "1. 233878\n",
       "2. 184154\n",
       "3. 48465\n",
       "\n",
       "\n"
      ],
      "text/plain": [
       "[1] 233878 184154  48465"
      ]
     },
     "metadata": {},
     "output_type": "display_data"
    },
    {
     "data": {},
     "metadata": {},
     "output_type": "display_data"
    },
    {
     "data": {
      "image/png": "[encoded data removed]",
      "text/plain": [
       "plot without title"
      ]
     },
     "metadata": {},
     "output_type": "display_data"
    }
   ],
   "source": [
    "top_semesters<-rownames(semester_freq)\n",
    "semester_freq_count<-c()\n",
    "for(i in 1:3){\n",
    "    semester_freq_count<-c(semester_freq_count, semester_freq[[i]])\n",
    "}\n",
    "top_semesters\n",
    "semester_freq_count\n",
    "\n",
    "semester_freq_df<-data.frame(top_semesters,semester_freq_count)\n",
    "\n",
    "\n",
    "sem_freq_plot <- \n",
    "  ggplot(semester_freq_df, aes(x=top_semesters, y=semester_freq_count)) + \n",
    "  geom_bar(stat=\"identity\", colour=\"black\", fill=\"blue\") + \n",
    "  xlab(\"Semester\") + ylab(\"Participants\") \n",
    "\n",
    "sem_freq_plot"
   ]
  },
  {
   "cell_type": "code",
   "execution_count": 76,
   "metadata": {},
   "outputs": [
    {
     "name": "stdout",
     "output_type": "stream",
     "text": [
      "[1] \"Number of participants per institute\"\n"
     ]
    },
    {
     "data": {
      "text/html": [
       "<dl class=dl-horizontal>\n",
       "\t<dt>HarvardX</dt>\n",
       "\t\t<dd>318894</dd>\n",
       "\t<dt>MITx</dt>\n",
       "\t\t<dd>147603</dd>\n",
       "</dl>\n"
      ],
      "text/latex": [
       "\\begin{description*}\n",
       "\\item[HarvardX] 318894\n",
       "\\item[MITx] 147603\n",
       "\\end{description*}\n"
      ],
      "text/markdown": [
       "HarvardX\n",
       ":   318894MITx\n",
       ":   147603\n",
       "\n"
      ],
      "text/plain": [
       "HarvardX     MITx \n",
       "  318894   147603 "
      ]
     },
     "metadata": {},
     "output_type": "display_data"
    }
   ],
   "source": [
    "print(\"Number of participants per institute\")\n",
    "institute_freq<-summary(data$institute)\n",
    "institute_freq\n"
   ]
  },
  {
   "cell_type": "code",
   "execution_count": 73,
   "metadata": {},
   "outputs": [
    {
     "data": {
      "text/html": [
       "<strong>HarvardX:</strong> 318894"
      ],
      "text/latex": [
       "\\textbf{HarvardX:} 318894"
      ],
      "text/markdown": [
       "**HarvardX:** 318894"
      ],
      "text/plain": [
       "HarvardX \n",
       "  318894 "
      ]
     },
     "metadata": {},
     "output_type": "display_data"
    }
   ],
   "source": [
    "institute_freq[1][1]"
   ]
  },
  {
   "cell_type": "code",
   "execution_count": 82,
   "metadata": {},
   "outputs": [
    {
     "data": {
      "text/plain": [
       "   Min. 1st Qu.  Median    Mean 3rd Qu.    Max. \n",
       "   2012    2012    2012    2012    2013    2013 "
      ]
     },
     "metadata": {},
     "output_type": "display_data"
    }
   ],
   "source": [
    "options(repr.plot.width=6, repr.plot.height=3)\n",
    "summary(data$year)\n"
   ]
  },
  {
   "cell_type": "code",
   "execution_count": 85,
   "metadata": {},
   "outputs": [
    {
     "data": {
      "text/plain": [
       "\n",
       "  2012   2013 \n",
       "296978 169519 "
      ]
     },
     "metadata": {},
     "output_type": "display_data"
    }
   ],
   "source": [
    "yearly_count<-sort(table(data$year),decreasing=TRUE)[1:2]\n",
    "yearly_count"
   ]
  },
  {
   "cell_type": "code",
   "execution_count": 102,
   "metadata": {
    "collapsed": true
   },
   "outputs": [],
   "source": [
    "\n",
    "#agesummary=arrange(agesummary,desc(avgParticipantAge))\n",
    "#temp\n",
    "\n",
    "temp1<-data.frame(data$course_id,data$age)\n",
    "#temp1\n",
    "\n",
    "#temp<-group_by(temp1,temp1$data.course_id)\n",
    "#temp\n",
    "\n",
    "agesummary<-aggregate(temp1$data.age ~ temp1$data.course_id , temp1, mean)\n"
   ]
  },
  {
   "cell_type": "code",
   "execution_count": 104,
   "metadata": {},
   "outputs": [
    {
     "data": {
      "text/html": [
       "<table>\n",
       "<thead><tr><th scope=col>course</th><th scope=col>age</th></tr></thead>\n",
       "<tbody>\n",
       "\t<tr><td>14.73x  </td><td>28.33817</td></tr>\n",
       "\t<tr><td>2.01x   </td><td>24.37922</td></tr>\n",
       "\t<tr><td>3.091x  </td><td>24.55752</td></tr>\n",
       "\t<tr><td>6.002x  </td><td>23.75882</td></tr>\n",
       "\t<tr><td>6.00x   </td><td>26.19099</td></tr>\n",
       "\t<tr><td>7.00x   </td><td>27.84135</td></tr>\n",
       "\t<tr><td>8.02x   </td><td>25.43309</td></tr>\n",
       "\t<tr><td>8.MReV  </td><td>24.02451</td></tr>\n",
       "\t<tr><td>CB22x   </td><td>30.53291</td></tr>\n",
       "\t<tr><td>CS50x   </td><td>27.00184</td></tr>\n",
       "\t<tr><td>ER22x   </td><td>29.31486</td></tr>\n",
       "\t<tr><td>PH207x  </td><td>29.50605</td></tr>\n",
       "\t<tr><td>PH278x  </td><td>28.31523</td></tr>\n",
       "</tbody>\n",
       "</table>\n"
      ],
      "text/latex": [
       "\\begin{tabular}{r|ll}\n",
       " course & age\\\\\n",
       "\\hline\n",
       "\t 14.73x   & 28.33817\\\\\n",
       "\t 2.01x    & 24.37922\\\\\n",
       "\t 3.091x   & 24.55752\\\\\n",
       "\t 6.002x   & 23.75882\\\\\n",
       "\t 6.00x    & 26.19099\\\\\n",
       "\t 7.00x    & 27.84135\\\\\n",
       "\t 8.02x    & 25.43309\\\\\n",
       "\t 8.MReV   & 24.02451\\\\\n",
       "\t CB22x    & 30.53291\\\\\n",
       "\t CS50x    & 27.00184\\\\\n",
       "\t ER22x    & 29.31486\\\\\n",
       "\t PH207x   & 29.50605\\\\\n",
       "\t PH278x   & 28.31523\\\\\n",
       "\\end{tabular}\n"
      ],
      "text/markdown": [
       "\n",
       "course | age | \n",
       "|---|---|---|---|---|---|---|---|---|---|---|---|---|\n",
       "| 14.73x   | 28.33817 | \n",
       "| 2.01x    | 24.37922 | \n",
       "| 3.091x   | 24.55752 | \n",
       "| 6.002x   | 23.75882 | \n",
       "| 6.00x    | 26.19099 | \n",
       "| 7.00x    | 27.84135 | \n",
       "| 8.02x    | 25.43309 | \n",
       "| 8.MReV   | 24.02451 | \n",
       "| CB22x    | 30.53291 | \n",
       "| CS50x    | 27.00184 | \n",
       "| ER22x    | 29.31486 | \n",
       "| PH207x   | 29.50605 | \n",
       "| PH278x   | 28.31523 | \n",
       "\n",
       "\n"
      ],
      "text/plain": [
       "   course age     \n",
       "1  14.73x 28.33817\n",
       "2  2.01x  24.37922\n",
       "3  3.091x 24.55752\n",
       "4  6.002x 23.75882\n",
       "5  6.00x  26.19099\n",
       "6  7.00x  27.84135\n",
       "7  8.02x  25.43309\n",
       "8  8.MReV 24.02451\n",
       "9  CB22x  30.53291\n",
       "10 CS50x  27.00184\n",
       "11 ER22x  29.31486\n",
       "12 PH207x 29.50605\n",
       "13 PH278x 28.31523"
      ]
     },
     "metadata": {},
     "output_type": "display_data"
    }
   ],
   "source": [
    "names(agesummary)<-c(\"course\",\"age\")\n",
    "agesummary"
   ]
  },
  {
   "cell_type": "code",
   "execution_count": 105,
   "metadata": {},
   "outputs": [
    {
     "data": {},
     "metadata": {},
     "output_type": "display_data"
    },
    {
     "data": {
      "image/png": "[encoded data removed]",
      "text/plain": [
       "plot without title"
      ]
     },
     "metadata": {},
     "output_type": "display_data"
    }
   ],
   "source": [
    "age_plot<-ggplot(agesummary,aes(x=agesummary$course,y=agesummary$age))+\n",
    "geom_bar(stat=\"identity\",fill=\"orange\")+xlab(\"course\") + ylab(\"age\")\n",
    "\n",
    "\n",
    "age_plot"
   ]
  },
  {
   "cell_type": "code",
   "execution_count": 106,
   "metadata": {},
   "outputs": [
    {
     "data": {
      "text/html": [
       "<ol class=list-inline>\n",
       "\t<li>CS50x</li>\n",
       "\t<li>PH207x</li>\n",
       "\t<li>ER22x</li>\n",
       "\t<li>PH278x</li>\n",
       "\t<li>CB22x</li>\n",
       "\t<li>6.00x</li>\n",
       "\t<li>6.002x</li>\n",
       "\t<li>3.091x</li>\n",
       "\t<li>14.73x</li>\n",
       "\t<li>8.02x</li>\n",
       "\t<li>7.00x</li>\n",
       "\t<li>8.MReV</li>\n",
       "\t<li>2.01x</li>\n",
       "</ol>\n"
      ],
      "text/latex": [
       "\\begin{enumerate*}\n",
       "\\item CS50x\n",
       "\\item PH207x\n",
       "\\item ER22x\n",
       "\\item PH278x\n",
       "\\item CB22x\n",
       "\\item 6.00x\n",
       "\\item 6.002x\n",
       "\\item 3.091x\n",
       "\\item 14.73x\n",
       "\\item 8.02x\n",
       "\\item 7.00x\n",
       "\\item 8.MReV\n",
       "\\item 2.01x\n",
       "\\end{enumerate*}\n"
      ],
      "text/markdown": [
       "1. CS50x\n",
       "2. PH207x\n",
       "3. ER22x\n",
       "4. PH278x\n",
       "5. CB22x\n",
       "6. 6.00x\n",
       "7. 6.002x\n",
       "8. 3.091x\n",
       "9. 14.73x\n",
       "10. 8.02x\n",
       "11. 7.00x\n",
       "12. 8.MReV\n",
       "13. 2.01x\n",
       "\n",
       "\n"
      ],
      "text/plain": [
       " [1] CS50x  PH207x ER22x  PH278x CB22x  6.00x  6.002x 3.091x 14.73x 8.02x \n",
       "[11] 7.00x  8.MReV 2.01x \n",
       "13 Levels: 14.73x 2.01x 3.091x 6.002x 6.00x 7.00x 8.02x 8.MReV CB22x ... PH278x"
      ]
     },
     "metadata": {},
     "output_type": "display_data"
    }
   ],
   "source": [
    "unique(data$course_id)"
   ]
  },
  {
   "cell_type": "code",
   "execution_count": 110,
   "metadata": {},
   "outputs": [
    {
     "name": "stderr",
     "output_type": "stream",
     "text": [
      "Warning message in if (data$semester == \"Summer\") {:\n",
      "“the condition has length > 1 and only the first element will be used”"
     ]
    },
    {
     "name": "stdout",
     "output_type": "stream",
     "text": [
      "[1] \"in summer\"\n"
     ]
    },
    {
     "name": "stderr",
     "output_type": "stream",
     "text": [
      "Warning message in if (data$year == 2013) {:\n",
      "“the condition has length > 1 and only the first element will be used”"
     ]
    }
   ],
   "source": [
    "if(data$semester==\"Summer\"){\n",
    "    if(data$year==2013){\n",
    "    print(\"found\")\n",
    "    }\n",
    "}"
   ]
  },
  {
   "cell_type": "code",
   "execution_count": null,
   "metadata": {
    "collapsed": true
   },
   "outputs": [],
   "source": [
    "for()"
   ]
  }
 ],
 "metadata": {
  "anaconda-cloud": {},
  "kernelspec": {
   "display_name": "R",
   "language": "R",
   "name": "ir"
  },
  "language_info": {
   "codemirror_mode": "r",
   "file_extension": ".r",
   "mimetype": "text/x-r-source",
   "name": "R",
   "pygments_lexer": "r",
   "version": "3.4.1"
  }
 },
 "nbformat": 4,
 "nbformat_minor": 1
}
