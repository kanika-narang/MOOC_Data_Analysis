{
 "cells": [
  {
   "cell_type": "code",
   "execution_count": 2,
   "metadata": {
    "collapsed": true
   },
   "outputs": [],
   "source": [
    "data<-read.csv(\"/home/iiitb/DataAnalyticsProject/Data/big_student_clear_third_version.csv\", header=TRUE)"
   ]
  },
  {
   "cell_type": "code",
   "execution_count": 8,
   "metadata": {},
   "outputs": [
    {
     "data": {
      "text/html": [
       "<table>\n",
       "<thead><tr><th scope=col>X</th><th scope=col>institute</th><th scope=col>course_id</th><th scope=col>year</th><th scope=col>semester</th><th scope=col>userid_DI</th><th scope=col>viewed</th><th scope=col>explored</th><th scope=col>certified</th><th scope=col>final_cc_cname_DI</th><th scope=col>⋯</th><th scope=col>grade</th><th scope=col>start_time_DI</th><th scope=col>last_event_DI</th><th scope=col>nevents</th><th scope=col>ndays_act</th><th scope=col>nplay_video</th><th scope=col>nchapters</th><th scope=col>nforum_posts</th><th scope=col>incomplete_flag</th><th scope=col>age</th></tr></thead>\n",
       "<tbody>\n",
       "\t<tr><td> 4                            </td><td>HarvardX                      </td><td>PH207x                        </td><td>2012                          </td><td>Fall                          </td><td>MHxPC130313697                </td><td>0                             </td><td>0                             </td><td>0                             </td><td>India                         </td><td>⋯                             </td><td>0                             </td><td>2012-07-24                    </td><td>2013-07-27                    </td><td>  6                           </td><td>3                             </td><td>197757                        </td><td>0                             </td><td>0                             </td><td>0                             </td><td>23                            </td></tr>\n",
       "\t<tr><td> 6                            </td><td>HarvardX                      </td><td>PH207x                        </td><td>2012                          </td><td>Fall                          </td><td>MHxPC130237753                </td><td>1                             </td><td>0                             </td><td>0                             </td><td>United States                 </td><td>⋯                             </td><td>0                             </td><td>2012-07-24                    </td><td>2012-12-24                    </td><td>107                           </td><td>8                             </td><td>     7                        </td><td>2                             </td><td>0                             </td><td>0                             </td><td>19                            </td></tr>\n",
       "\t<tr><td> 7                            </td><td>HarvardX                      </td><td>CS50x                         </td><td>2012                          </td><td>Summer                        </td><td>MHxPC130202970                </td><td>1                             </td><td>0                             </td><td>0                             </td><td>United States                 </td><td>⋯                             </td><td>0                             </td><td>2012-07-24                    </td><td>2013-03-28                    </td><td>  8                           </td><td>1                             </td><td>197757                        </td><td>1                             </td><td>0                             </td><td>0                             </td><td>24                            </td></tr>\n",
       "\t<tr><td>20                            </td><td>HarvardX                      </td><td>CS50x                         </td><td>2012                          </td><td>Summer                        </td><td>MHxPC130223941                </td><td>1                             </td><td>0                             </td><td>0                             </td><td>Other Middle East/Central Asia</td><td>⋯                             </td><td>0                             </td><td>2012-07-24                    </td><td>2013-07-15                    </td><td> 25                           </td><td>2                             </td><td>197757                        </td><td>4                             </td><td>0                             </td><td>0                             </td><td>20                            </td></tr>\n",
       "\t<tr><td>22                            </td><td>HarvardX                      </td><td>PH207x                        </td><td>2012                          </td><td>Fall                          </td><td>MHxPC130317399                </td><td>0                             </td><td>0                             </td><td>0                             </td><td>Australia                     </td><td>⋯                             </td><td>0                             </td><td>2012-07-24                    </td><td>2012-08-25                    </td><td>  3                           </td><td>2                             </td><td>197757                        </td><td>0                             </td><td>0                             </td><td>0                             </td><td>32                            </td></tr>\n",
       "\t<tr><td>23                            </td><td>HarvardX                      </td><td>CS50x                         </td><td>2012                          </td><td>Summer                        </td><td>MHxPC130191782                </td><td>1                             </td><td>0                             </td><td>0                             </td><td>Pakistan                      </td><td>⋯                             </td><td>0                             </td><td>2012-07-24                    </td><td>2013-05-05                    </td><td>  2                           </td><td>2                             </td><td>197757                        </td><td>1                             </td><td>0                             </td><td>0                             </td><td>22                            </td></tr>\n",
       "</tbody>\n",
       "</table>\n"
      ],
      "text/latex": [
       "\\begin{tabular}{r|llllllllllllllllllllll}\n",
       " X & institute & course\\_id & year & semester & userid\\_DI & viewed & explored & certified & final\\_cc\\_cname\\_DI & ⋯ & grade & start\\_time\\_DI & last\\_event\\_DI & nevents & ndays\\_act & nplay\\_video & nchapters & nforum\\_posts & incomplete\\_flag & age\\\\\n",
       "\\hline\n",
       "\t  4                             & HarvardX                       & PH207x                         & 2012                           & Fall                           & MHxPC130313697                 & 0                              & 0                              & 0                              & India                          & ⋯                              & 0                              & 2012-07-24                     & 2013-07-27                     &   6                            & 3                              & 197757                         & 0                              & 0                              & 0                              & 23                            \\\\\n",
       "\t  6                             & HarvardX                       & PH207x                         & 2012                           & Fall                           & MHxPC130237753                 & 1                              & 0                              & 0                              & United States                  & ⋯                              & 0                              & 2012-07-24                     & 2012-12-24                     & 107                            & 8                              &      7                         & 2                              & 0                              & 0                              & 19                            \\\\\n",
       "\t  7                             & HarvardX                       & CS50x                          & 2012                           & Summer                         & MHxPC130202970                 & 1                              & 0                              & 0                              & United States                  & ⋯                              & 0                              & 2012-07-24                     & 2013-03-28                     &   8                            & 1                              & 197757                         & 1                              & 0                              & 0                              & 24                            \\\\\n",
       "\t 20                             & HarvardX                       & CS50x                          & 2012                           & Summer                         & MHxPC130223941                 & 1                              & 0                              & 0                              & Other Middle East/Central Asia & ⋯                              & 0                              & 2012-07-24                     & 2013-07-15                     &  25                            & 2                              & 197757                         & 4                              & 0                              & 0                              & 20                            \\\\\n",
       "\t 22                             & HarvardX                       & PH207x                         & 2012                           & Fall                           & MHxPC130317399                 & 0                              & 0                              & 0                              & Australia                      & ⋯                              & 0                              & 2012-07-24                     & 2012-08-25                     &   3                            & 2                              & 197757                         & 0                              & 0                              & 0                              & 32                            \\\\\n",
       "\t 23                             & HarvardX                       & CS50x                          & 2012                           & Summer                         & MHxPC130191782                 & 1                              & 0                              & 0                              & Pakistan                       & ⋯                              & 0                              & 2012-07-24                     & 2013-05-05                     &   2                            & 2                              & 197757                         & 1                              & 0                              & 0                              & 22                            \\\\\n",
       "\\end{tabular}\n"
      ],
      "text/markdown": [
       "\n",
       "X | institute | course_id | year | semester | userid_DI | viewed | explored | certified | final_cc_cname_DI | ⋯ | grade | start_time_DI | last_event_DI | nevents | ndays_act | nplay_video | nchapters | nforum_posts | incomplete_flag | age | \n",
       "|---|---|---|---|---|---|\n",
       "|  4                             | HarvardX                       | PH207x                         | 2012                           | Fall                           | MHxPC130313697                 | 0                              | 0                              | 0                              | India                          | ⋯                              | 0                              | 2012-07-24                     | 2013-07-27                     |   6                            | 3                              | 197757                         | 0                              | 0                              | 0                              | 23                             | \n",
       "|  6                             | HarvardX                       | PH207x                         | 2012                           | Fall                           | MHxPC130237753                 | 1                              | 0                              | 0                              | United States                  | ⋯                              | 0                              | 2012-07-24                     | 2012-12-24                     | 107                            | 8                              |      7                         | 2                              | 0                              | 0                              | 19                             | \n",
       "|  7                             | HarvardX                       | CS50x                          | 2012                           | Summer                         | MHxPC130202970                 | 1                              | 0                              | 0                              | United States                  | ⋯                              | 0                              | 2012-07-24                     | 2013-03-28                     |   8                            | 1                              | 197757                         | 1                              | 0                              | 0                              | 24                             | \n",
       "| 20                             | HarvardX                       | CS50x                          | 2012                           | Summer                         | MHxPC130223941                 | 1                              | 0                              | 0                              | Other Middle East/Central Asia | ⋯                              | 0                              | 2012-07-24                     | 2013-07-15                     |  25                            | 2                              | 197757                         | 4                              | 0                              | 0                              | 20                             | \n",
       "| 22                             | HarvardX                       | PH207x                         | 2012                           | Fall                           | MHxPC130317399                 | 0                              | 0                              | 0                              | Australia                      | ⋯                              | 0                              | 2012-07-24                     | 2012-08-25                     |   3                            | 2                              | 197757                         | 0                              | 0                              | 0                              | 32                             | \n",
       "| 23                             | HarvardX                       | CS50x                          | 2012                           | Summer                         | MHxPC130191782                 | 1                              | 0                              | 0                              | Pakistan                       | ⋯                              | 0                              | 2012-07-24                     | 2013-05-05                     |   2                            | 2                              | 197757                         | 1                              | 0                              | 0                              | 22                             | \n",
       "\n",
       "\n"
      ],
      "text/plain": [
       "  X  institute course_id year semester userid_DI      viewed explored certified\n",
       "1  4 HarvardX  PH207x    2012 Fall     MHxPC130313697 0      0        0        \n",
       "2  6 HarvardX  PH207x    2012 Fall     MHxPC130237753 1      0        0        \n",
       "3  7 HarvardX  CS50x     2012 Summer   MHxPC130202970 1      0        0        \n",
       "4 20 HarvardX  CS50x     2012 Summer   MHxPC130223941 1      0        0        \n",
       "5 22 HarvardX  PH207x    2012 Fall     MHxPC130317399 0      0        0        \n",
       "6 23 HarvardX  CS50x     2012 Summer   MHxPC130191782 1      0        0        \n",
       "  final_cc_cname_DI              ⋯ grade start_time_DI last_event_DI nevents\n",
       "1 India                          ⋯ 0     2012-07-24    2013-07-27      6    \n",
       "2 United States                  ⋯ 0     2012-07-24    2012-12-24    107    \n",
       "3 United States                  ⋯ 0     2012-07-24    2013-03-28      8    \n",
       "4 Other Middle East/Central Asia ⋯ 0     2012-07-24    2013-07-15     25    \n",
       "5 Australia                      ⋯ 0     2012-07-24    2012-08-25      3    \n",
       "6 Pakistan                       ⋯ 0     2012-07-24    2013-05-05      2    \n",
       "  ndays_act nplay_video nchapters nforum_posts incomplete_flag age\n",
       "1 3         197757      0         0            0               23 \n",
       "2 8              7      2         0            0               19 \n",
       "3 1         197757      1         0            0               24 \n",
       "4 2         197757      4         0            0               20 \n",
       "5 2         197757      0         0            0               32 \n",
       "6 2         197757      1         0            0               22 "
      ]
     },
     "metadata": {},
     "output_type": "display_data"
    }
   ],
   "source": [
    "head(data)"
   ]
  },
  {
   "cell_type": "code",
   "execution_count": 4,
   "metadata": {},
   "outputs": [
    {
     "data": {
      "text/html": [
       "'integer'"
      ],
      "text/latex": [
       "'integer'"
      ],
      "text/markdown": [
       "'integer'"
      ],
      "text/plain": [
       "[1] \"integer\""
      ]
     },
     "metadata": {},
     "output_type": "display_data"
    }
   ],
   "source": [
    "class(data$certified)"
   ]
  },
  {
   "cell_type": "code",
   "execution_count": 5,
   "metadata": {
    "collapsed": true
   },
   "outputs": [],
   "source": [
    "data['certified']<-as.factor(data$certified)"
   ]
  },
  {
   "cell_type": "code",
   "execution_count": 6,
   "metadata": {},
   "outputs": [
    {
     "data": {
      "text/html": [
       "'factor'"
      ],
      "text/latex": [
       "'factor'"
      ],
      "text/markdown": [
       "'factor'"
      ],
      "text/plain": [
       "[1] \"factor\""
      ]
     },
     "metadata": {},
     "output_type": "display_data"
    }
   ],
   "source": [
    "class(data$certified)"
   ]
  },
  {
   "cell_type": "code",
   "execution_count": 7,
   "metadata": {},
   "outputs": [
    {
     "name": "stderr",
     "output_type": "stream",
     "text": [
      "\n",
      "Attaching package: ‘dplyr’\n",
      "\n",
      "The following objects are masked from ‘package:stats’:\n",
      "\n",
      "    filter, lag\n",
      "\n",
      "The following objects are masked from ‘package:base’:\n",
      "\n",
      "    intersect, setdiff, setequal, union\n",
      "\n"
     ]
    }
   ],
   "source": [
    "library(dplyr)\n",
    "library(rpart)\n",
    "library(ggplot2)\n"
   ]
  },
  {
   "cell_type": "code",
   "execution_count": 10,
   "metadata": {},
   "outputs": [
    {
     "data": {
      "text/html": [
       "<ol class=list-inline>\n",
       "\t<li>'X'</li>\n",
       "\t<li>'institute'</li>\n",
       "\t<li>'course_id'</li>\n",
       "\t<li>'year'</li>\n",
       "\t<li>'semester'</li>\n",
       "\t<li>'userid_DI'</li>\n",
       "\t<li>'viewed'</li>\n",
       "\t<li>'explored'</li>\n",
       "\t<li>'certified'</li>\n",
       "\t<li>'final_cc_cname_DI'</li>\n",
       "\t<li>'LoE_DI'</li>\n",
       "\t<li>'gender'</li>\n",
       "\t<li>'grade'</li>\n",
       "\t<li>'start_time_DI'</li>\n",
       "\t<li>'last_event_DI'</li>\n",
       "\t<li>'nevents'</li>\n",
       "\t<li>'ndays_act'</li>\n",
       "\t<li>'nplay_video'</li>\n",
       "\t<li>'nchapters'</li>\n",
       "\t<li>'nforum_posts'</li>\n",
       "\t<li>'incomplete_flag'</li>\n",
       "\t<li>'age'</li>\n",
       "</ol>\n"
      ],
      "text/latex": [
       "\\begin{enumerate*}\n",
       "\\item 'X'\n",
       "\\item 'institute'\n",
       "\\item 'course\\_id'\n",
       "\\item 'year'\n",
       "\\item 'semester'\n",
       "\\item 'userid\\_DI'\n",
       "\\item 'viewed'\n",
       "\\item 'explored'\n",
       "\\item 'certified'\n",
       "\\item 'final\\_cc\\_cname\\_DI'\n",
       "\\item 'LoE\\_DI'\n",
       "\\item 'gender'\n",
       "\\item 'grade'\n",
       "\\item 'start\\_time\\_DI'\n",
       "\\item 'last\\_event\\_DI'\n",
       "\\item 'nevents'\n",
       "\\item 'ndays\\_act'\n",
       "\\item 'nplay\\_video'\n",
       "\\item 'nchapters'\n",
       "\\item 'nforum\\_posts'\n",
       "\\item 'incomplete\\_flag'\n",
       "\\item 'age'\n",
       "\\end{enumerate*}\n"
      ],
      "text/markdown": [
       "1. 'X'\n",
       "2. 'institute'\n",
       "3. 'course_id'\n",
       "4. 'year'\n",
       "5. 'semester'\n",
       "6. 'userid_DI'\n",
       "7. 'viewed'\n",
       "8. 'explored'\n",
       "9. 'certified'\n",
       "10. 'final_cc_cname_DI'\n",
       "11. 'LoE_DI'\n",
       "12. 'gender'\n",
       "13. 'grade'\n",
       "14. 'start_time_DI'\n",
       "15. 'last_event_DI'\n",
       "16. 'nevents'\n",
       "17. 'ndays_act'\n",
       "18. 'nplay_video'\n",
       "19. 'nchapters'\n",
       "20. 'nforum_posts'\n",
       "21. 'incomplete_flag'\n",
       "22. 'age'\n",
       "\n",
       "\n"
      ],
      "text/plain": [
       " [1] \"X\"                 \"institute\"         \"course_id\"        \n",
       " [4] \"year\"              \"semester\"          \"userid_DI\"        \n",
       " [7] \"viewed\"            \"explored\"          \"certified\"        \n",
       "[10] \"final_cc_cname_DI\" \"LoE_DI\"            \"gender\"           \n",
       "[13] \"grade\"             \"start_time_DI\"     \"last_event_DI\"    \n",
       "[16] \"nevents\"           \"ndays_act\"         \"nplay_video\"      \n",
       "[19] \"nchapters\"         \"nforum_posts\"      \"incomplete_flag\"  \n",
       "[22] \"age\"              "
      ]
     },
     "metadata": {},
     "output_type": "display_data"
    }
   ],
   "source": [
    "names(data)"
   ]
  },
  {
   "cell_type": "code",
   "execution_count": 11,
   "metadata": {
    "collapsed": true
   },
   "outputs": [],
   "source": [
    "data_filtered<-select(data,institute,course_id,semester,viewed,explored,certified,final_cc_cname_DI,LoE_DI,gender,\n",
    "                      grade,start_time_DI,last_event_DI,nevents,ndays_act,nplay_video,nchapters,nforum_posts,incomplete_flag\n",
    "                     ,age)"
   ]
  },
  {
   "cell_type": "code",
   "execution_count": 12,
   "metadata": {},
   "outputs": [
    {
     "data": {
      "text/html": [
       "<table>\n",
       "<thead><tr><th scope=col>institute</th><th scope=col>course_id</th><th scope=col>semester</th><th scope=col>viewed</th><th scope=col>explored</th><th scope=col>certified</th><th scope=col>final_cc_cname_DI</th><th scope=col>LoE_DI</th><th scope=col>gender</th><th scope=col>grade</th><th scope=col>start_time_DI</th><th scope=col>last_event_DI</th><th scope=col>nevents</th><th scope=col>ndays_act</th><th scope=col>nplay_video</th><th scope=col>nchapters</th><th scope=col>nforum_posts</th><th scope=col>incomplete_flag</th><th scope=col>age</th></tr></thead>\n",
       "<tbody>\n",
       "\t<tr><td>HarvardX                      </td><td>PH207x                        </td><td>Fall                          </td><td>0                             </td><td>0                             </td><td>0                             </td><td>India                         </td><td>Bachelor's                    </td><td>m                             </td><td>0                             </td><td>2012-07-24                    </td><td>2013-07-27                    </td><td>  6                           </td><td>3                             </td><td>197757                        </td><td>0                             </td><td>0                             </td><td>0                             </td><td>23                            </td></tr>\n",
       "\t<tr><td>HarvardX                      </td><td>PH207x                        </td><td>Fall                          </td><td>1                             </td><td>0                             </td><td>0                             </td><td>United States                 </td><td>Secondary                     </td><td>m                             </td><td>0                             </td><td>2012-07-24                    </td><td>2012-12-24                    </td><td>107                           </td><td>8                             </td><td>     7                        </td><td>2                             </td><td>0                             </td><td>0                             </td><td>19                            </td></tr>\n",
       "\t<tr><td>HarvardX                      </td><td>CS50x                         </td><td>Summer                        </td><td>1                             </td><td>0                             </td><td>0                             </td><td>United States                 </td><td>Bachelor's                    </td><td>m                             </td><td>0                             </td><td>2012-07-24                    </td><td>2013-03-28                    </td><td>  8                           </td><td>1                             </td><td>197757                        </td><td>1                             </td><td>0                             </td><td>0                             </td><td>24                            </td></tr>\n",
       "\t<tr><td>HarvardX                      </td><td>CS50x                         </td><td>Summer                        </td><td>1                             </td><td>0                             </td><td>0                             </td><td>Other Middle East/Central Asia</td><td>Secondary                     </td><td>m                             </td><td>0                             </td><td>2012-07-24                    </td><td>2013-07-15                    </td><td> 25                           </td><td>2                             </td><td>197757                        </td><td>4                             </td><td>0                             </td><td>0                             </td><td>20                            </td></tr>\n",
       "\t<tr><td>HarvardX                      </td><td>PH207x                        </td><td>Fall                          </td><td>0                             </td><td>0                             </td><td>0                             </td><td>Australia                     </td><td>Master's                      </td><td>f                             </td><td>0                             </td><td>2012-07-24                    </td><td>2012-08-25                    </td><td>  3                           </td><td>2                             </td><td>197757                        </td><td>0                             </td><td>0                             </td><td>0                             </td><td>32                            </td></tr>\n",
       "\t<tr><td>HarvardX                      </td><td>CS50x                         </td><td>Summer                        </td><td>1                             </td><td>0                             </td><td>0                             </td><td>Pakistan                      </td><td>Bachelor's                    </td><td>m                             </td><td>0                             </td><td>2012-07-24                    </td><td>2013-05-05                    </td><td>  2                           </td><td>2                             </td><td>197757                        </td><td>1                             </td><td>0                             </td><td>0                             </td><td>22                            </td></tr>\n",
       "</tbody>\n",
       "</table>\n"
      ],
      "text/latex": [
       "\\begin{tabular}{r|lllllllllllllllllll}\n",
       " institute & course\\_id & semester & viewed & explored & certified & final\\_cc\\_cname\\_DI & LoE\\_DI & gender & grade & start\\_time\\_DI & last\\_event\\_DI & nevents & ndays\\_act & nplay\\_video & nchapters & nforum\\_posts & incomplete\\_flag & age\\\\\n",
       "\\hline\n",
       "\t HarvardX                       & PH207x                         & Fall                           & 0                              & 0                              & 0                              & India                          & Bachelor's                     & m                              & 0                              & 2012-07-24                     & 2013-07-27                     &   6                            & 3                              & 197757                         & 0                              & 0                              & 0                              & 23                            \\\\\n",
       "\t HarvardX                       & PH207x                         & Fall                           & 1                              & 0                              & 0                              & United States                  & Secondary                      & m                              & 0                              & 2012-07-24                     & 2012-12-24                     & 107                            & 8                              &      7                         & 2                              & 0                              & 0                              & 19                            \\\\\n",
       "\t HarvardX                       & CS50x                          & Summer                         & 1                              & 0                              & 0                              & United States                  & Bachelor's                     & m                              & 0                              & 2012-07-24                     & 2013-03-28                     &   8                            & 1                              & 197757                         & 1                              & 0                              & 0                              & 24                            \\\\\n",
       "\t HarvardX                       & CS50x                          & Summer                         & 1                              & 0                              & 0                              & Other Middle East/Central Asia & Secondary                      & m                              & 0                              & 2012-07-24                     & 2013-07-15                     &  25                            & 2                              & 197757                         & 4                              & 0                              & 0                              & 20                            \\\\\n",
       "\t HarvardX                       & PH207x                         & Fall                           & 0                              & 0                              & 0                              & Australia                      & Master's                       & f                              & 0                              & 2012-07-24                     & 2012-08-25                     &   3                            & 2                              & 197757                         & 0                              & 0                              & 0                              & 32                            \\\\\n",
       "\t HarvardX                       & CS50x                          & Summer                         & 1                              & 0                              & 0                              & Pakistan                       & Bachelor's                     & m                              & 0                              & 2012-07-24                     & 2013-05-05                     &   2                            & 2                              & 197757                         & 1                              & 0                              & 0                              & 22                            \\\\\n",
       "\\end{tabular}\n"
      ],
      "text/markdown": [
       "\n",
       "institute | course_id | semester | viewed | explored | certified | final_cc_cname_DI | LoE_DI | gender | grade | start_time_DI | last_event_DI | nevents | ndays_act | nplay_video | nchapters | nforum_posts | incomplete_flag | age | \n",
       "|---|---|---|---|---|---|\n",
       "| HarvardX                       | PH207x                         | Fall                           | 0                              | 0                              | 0                              | India                          | Bachelor's                     | m                              | 0                              | 2012-07-24                     | 2013-07-27                     |   6                            | 3                              | 197757                         | 0                              | 0                              | 0                              | 23                             | \n",
       "| HarvardX                       | PH207x                         | Fall                           | 1                              | 0                              | 0                              | United States                  | Secondary                      | m                              | 0                              | 2012-07-24                     | 2012-12-24                     | 107                            | 8                              |      7                         | 2                              | 0                              | 0                              | 19                             | \n",
       "| HarvardX                       | CS50x                          | Summer                         | 1                              | 0                              | 0                              | United States                  | Bachelor's                     | m                              | 0                              | 2012-07-24                     | 2013-03-28                     |   8                            | 1                              | 197757                         | 1                              | 0                              | 0                              | 24                             | \n",
       "| HarvardX                       | CS50x                          | Summer                         | 1                              | 0                              | 0                              | Other Middle East/Central Asia | Secondary                      | m                              | 0                              | 2012-07-24                     | 2013-07-15                     |  25                            | 2                              | 197757                         | 4                              | 0                              | 0                              | 20                             | \n",
       "| HarvardX                       | PH207x                         | Fall                           | 0                              | 0                              | 0                              | Australia                      | Master's                       | f                              | 0                              | 2012-07-24                     | 2012-08-25                     |   3                            | 2                              | 197757                         | 0                              | 0                              | 0                              | 32                             | \n",
       "| HarvardX                       | CS50x                          | Summer                         | 1                              | 0                              | 0                              | Pakistan                       | Bachelor's                     | m                              | 0                              | 2012-07-24                     | 2013-05-05                     |   2                            | 2                              | 197757                         | 1                              | 0                              | 0                              | 22                             | \n",
       "\n",
       "\n"
      ],
      "text/plain": [
       "  institute course_id semester viewed explored certified\n",
       "1 HarvardX  PH207x    Fall     0      0        0        \n",
       "2 HarvardX  PH207x    Fall     1      0        0        \n",
       "3 HarvardX  CS50x     Summer   1      0        0        \n",
       "4 HarvardX  CS50x     Summer   1      0        0        \n",
       "5 HarvardX  PH207x    Fall     0      0        0        \n",
       "6 HarvardX  CS50x     Summer   1      0        0        \n",
       "  final_cc_cname_DI              LoE_DI     gender grade start_time_DI\n",
       "1 India                          Bachelor's m      0     2012-07-24   \n",
       "2 United States                  Secondary  m      0     2012-07-24   \n",
       "3 United States                  Bachelor's m      0     2012-07-24   \n",
       "4 Other Middle East/Central Asia Secondary  m      0     2012-07-24   \n",
       "5 Australia                      Master's   f      0     2012-07-24   \n",
       "6 Pakistan                       Bachelor's m      0     2012-07-24   \n",
       "  last_event_DI nevents ndays_act nplay_video nchapters nforum_posts\n",
       "1 2013-07-27      6     3         197757      0         0           \n",
       "2 2012-12-24    107     8              7      2         0           \n",
       "3 2013-03-28      8     1         197757      1         0           \n",
       "4 2013-07-15     25     2         197757      4         0           \n",
       "5 2012-08-25      3     2         197757      0         0           \n",
       "6 2013-05-05      2     2         197757      1         0           \n",
       "  incomplete_flag age\n",
       "1 0               23 \n",
       "2 0               19 \n",
       "3 0               24 \n",
       "4 0               20 \n",
       "5 0               32 \n",
       "6 0               22 "
      ]
     },
     "metadata": {},
     "output_type": "display_data"
    }
   ],
   "source": [
    "head(data_filtered)"
   ]
  },
  {
   "cell_type": "code",
   "execution_count": 41,
   "metadata": {
    "collapsed": true
   },
   "outputs": [],
   "source": [
    "set.seed(101) \n",
    "# Now Selecting 70% of data as sample from total 'n' rows of the data  \n",
    "sample <- sample.int(n = nrow(data_filtered), size = floor(.70*nrow(data)), replace = F)\n",
    "train <- data[sample, ]\n",
    "test  <- data[-sample, ]"
   ]
  },
  {
   "cell_type": "code",
   "execution_count": 42,
   "metadata": {},
   "outputs": [
    {
     "data": {
      "text/html": [
       "291844"
      ],
      "text/latex": [
       "291844"
      ],
      "text/markdown": [
       "291844"
      ],
      "text/plain": [
       "[1] 291844"
      ]
     },
     "metadata": {},
     "output_type": "display_data"
    },
    {
     "data": {
      "text/html": [
       "125077"
      ],
      "text/latex": [
       "125077"
      ],
      "text/markdown": [
       "125077"
      ],
      "text/plain": [
       "[1] 125077"
      ]
     },
     "metadata": {},
     "output_type": "display_data"
    }
   ],
   "source": [
    "nrow(train)\n",
    "nrow(test)"
   ]
  },
  {
   "cell_type": "code",
   "execution_count": 43,
   "metadata": {},
   "outputs": [
    {
     "data": {
      "text/plain": [
       "\n",
       "        0         1 \n",
       "0.9642882 0.0357118 "
      ]
     },
     "metadata": {},
     "output_type": "display_data"
    },
    {
     "data": {
      "text/plain": [
       "\n",
       "         0          1 \n",
       "0.96419663 0.03580337 "
      ]
     },
     "metadata": {},
     "output_type": "display_data"
    },
    {
     "data": {
      "text/plain": [
       "\n",
       "         0          1 \n",
       "0.96450187 0.03549813 "
      ]
     },
     "metadata": {},
     "output_type": "display_data"
    }
   ],
   "source": [
    "table(data_filtered$certified)/nrow(data_filtered)\n",
    "\n",
    "table(train$certified)/nrow(train)\n",
    "\n",
    "table(test$certified)/nrow(test)"
   ]
  },
  {
   "cell_type": "code",
   "execution_count": 18,
   "metadata": {},
   "outputs": [
    {
     "name": "stderr",
     "output_type": "stream",
     "text": [
      "The following objects are masked from data_filtered (pos = 3):\n",
      "\n",
      "    age, certified, course_id, explored, final_cc_cname_DI, gender,\n",
      "    grade, incomplete_flag, institute, last_event_DI, LoE_DI,\n",
      "    nchapters, ndays_act, nevents, nforum_posts, nplay_video, semester,\n",
      "    start_time_DI, viewed\n",
      "\n"
     ]
    },
    {
     "data": {
      "text/plain": [
       "n= 291844 \n",
       "\n",
       "node), split, n, loss, yval, (yprob)\n",
       "      * denotes terminal node\n",
       "\n",
       "1) root 291844 10449 0 (0.964196626 0.035803374)  \n",
       "  2) grade< 0.545 281130   177 0 (0.999370398 0.000629602) *\n",
       "  3) grade>=0.545 10714   442 1 (0.041254433 0.958745567) *"
      ]
     },
     "metadata": {},
     "output_type": "display_data"
    }
   ],
   "source": [
    "attach(data_filtered)\n",
    "dtfit<-rpart(certified~institute+course_id+semester+viewed+explored+final_cc_cname_DI+LoE_DI+gender+\n",
    "                      grade+start_time_DI+last_event_DI+nevents+ndays_act+nplay_video+nchapters+nforum_posts+incomplete_flag\n",
    "                     +age,data = train, method=\"class\")\n",
    "dtfit"
   ]
  },
  {
   "cell_type": "code",
   "execution_count": 21,
   "metadata": {},
   "outputs": [
    {
     "name": "stderr",
     "output_type": "stream",
     "text": [
      "also installing the dependencies ‘RGtk2’, ‘cairoDevice’, ‘XML’, ‘rpart.plot’\n",
      "\n",
      "Warning message in install.packages(\"rattle\"):\n",
      "“installation of package ‘RGtk2’ had non-zero exit status”Warning message in install.packages(\"rattle\"):\n",
      "“installation of package ‘cairoDevice’ had non-zero exit status”Warning message in install.packages(\"rattle\"):\n",
      "“installation of package ‘rattle’ had non-zero exit status”Updating HTML index of packages in '.Library'\n",
      "Making 'packages.html' ... done\n",
      "Updating HTML index of packages in '.Library'\n",
      "Making 'packages.html' ... done\n",
      "Updating HTML index of packages in '.Library'\n",
      "Making 'packages.html' ... done\n"
     ]
    },
    {
     "ename": "ERROR",
     "evalue": "Error in library(rattle): there is no package called ‘rattle’\n",
     "output_type": "error",
     "traceback": [
      "Error in library(rattle): there is no package called ‘rattle’\nTraceback:\n",
      "1. library(rattle)",
      "2. stop(txt, domain = NA)"
     ]
    }
   ],
   "source": [
    "install.packages('rattle')\n",
    "install.packages('rpart.plot')\n",
    "install.packages('RColorBrewer')\n",
    "library(rattle)\n",
    "library(rpart.plot)\n",
    "library(RColorBrewer)"
   ]
  },
  {
   "cell_type": "code",
   "execution_count": 25,
   "metadata": {},
   "outputs": [
    {
     "data": {
      "image/png": "[encoded data removed]",
      "text/plain": [
       "plot without title"
      ]
     },
     "metadata": {},
     "output_type": "display_data"
    }
   ],
   "source": [
    "library(rpart.plot)\n",
    "library(RColorBrewer)\n",
    "rpart.plot(dtfit)"
   ]
  },
  {
   "cell_type": "code",
   "execution_count": 27,
   "metadata": {},
   "outputs": [
    {
     "name": "stdout",
     "output_type": "stream",
     "text": [
      "Call:\n",
      "rpart(formula = certified ~ institute + course_id + semester + \n",
      "    viewed + explored + final_cc_cname_DI + LoE_DI + gender + \n",
      "    grade + start_time_DI + last_event_DI + nevents + ndays_act + \n",
      "    nplay_video + nchapters + nforum_posts + incomplete_flag + \n",
      "    age, data = train, method = \"class\")\n",
      "  n= 291844 \n",
      "\n",
      "         CP nsplit  rel error     xerror        xstd\n",
      "1 0.9407599      0 1.00000000 1.00000000 0.009606063\n",
      "2 0.0100000      1 0.05924012 0.05924012 0.002378535\n",
      "\n",
      "Variable importance\n",
      "    grade ndays_act   nevents nchapters \n",
      "       50        18        17        15 \n",
      "\n",
      "Node number 1: 291844 observations,    complexity param=0.9407599\n",
      "  predicted class=0  expected loss=0.03580337  P(node) =1\n",
      "    class counts: 281395 10449\n",
      "   probabilities: 0.964 0.036 \n",
      "  left son=2 (281130 obs) right son=3 (10714 obs)\n",
      "  Primary splits:\n",
      "      grade     < 0.545  to the left,  improve=18948.470, (0 missing)\n",
      "      ndays_act < 27.5   to the left,  improve= 8542.374, (0 missing)\n",
      "      nchapters < 10.5   to the left,  improve= 8530.945, (0 missing)\n",
      "      explored  < 0.5    to the left,  improve= 8065.492, (0 missing)\n",
      "      nevents   < 3345.5 to the left,  improve= 7504.846, (0 missing)\n",
      "  Surrogate splits:\n",
      "      ndays_act < 35.5   to the left,  agree=0.977, adj=0.365, (0 split)\n",
      "      nevents   < 3826.5 to the left,  agree=0.976, adj=0.336, (0 split)\n",
      "      nchapters < 14.5   to the left,  agree=0.974, adj=0.304, (0 split)\n",
      "\n",
      "Node number 2: 281130 observations\n",
      "  predicted class=0  expected loss=0.000629602  P(node) =0.9632886\n",
      "    class counts: 280953   177\n",
      "   probabilities: 0.999 0.001 \n",
      "\n",
      "Node number 3: 10714 observations\n",
      "  predicted class=1  expected loss=0.04125443  P(node) =0.03671139\n",
      "    class counts:   442 10272\n",
      "   probabilities: 0.041 0.959 \n",
      "\n"
     ]
    }
   ],
   "source": [
    "summary(dtfit)"
   ]
  },
  {
   "cell_type": "code",
   "execution_count": 60,
   "metadata": {
    "collapsed": true
   },
   "outputs": [],
   "source": [
    "predicted<-predict(dtfit,test,type=\"class\")"
   ]
  },
  {
   "cell_type": "code",
   "execution_count": 61,
   "metadata": {},
   "outputs": [
    {
     "name": "stderr",
     "output_type": "stream",
     "text": [
      "IOPub data rate exceeded.\n",
      "The notebook server will temporarily stop sending output\n",
      "to the client in order to avoid crashing it.\n",
      "To change this limit, set the config variable\n",
      "`--NotebookApp.iopub_data_rate_limit`.\n"
     ]
    }
   ],
   "source": [
    "predicted"
   ]
  },
  {
   "cell_type": "code",
   "execution_count": 45,
   "metadata": {
    "collapsed": true
   },
   "outputs": [
    {
     "data": {
      "text/plain": [
       "       X             institute       course_id          year     \n",
       " Min.   :    20   HarvardX:52901   6.00x  :31494   Min.   :2012  \n",
       " 1st Qu.:237176   MITx    :72176   6.002x :14069   1st Qu.:2012  \n",
       " Median :353616                    CS50x  :13957   Median :2013  \n",
       " Mean   :340734                    ER22x  :12104   Mean   :2013  \n",
       " 3rd Qu.:466334                    PH207x :10964   3rd Qu.:2013  \n",
       " Max.   :583004                    CB22x  : 8326   Max.   :2013  \n",
       "                                   (Other):34163                 \n",
       "   semester              userid_DI          viewed          explored      \n",
       " Fall  :45845   MHxPC130165828:    11   Min.   :0.0000   Min.   :0.00000  \n",
       " Spring:73210   MHxPC130027283:     7   1st Qu.:0.0000   1st Qu.:0.00000  \n",
       " Summer: 6022   MHxPC130045546:     7   Median :1.0000   Median :0.00000  \n",
       "                MHxPC130414295:     7   Mean   :0.7105   Mean   :0.07777  \n",
       "                MHxPC130595319:     7   3rd Qu.:1.0000   3rd Qu.:0.00000  \n",
       "                MHxPC130109432:     6   Max.   :1.0000   Max.   :1.00000  \n",
       "                (Other)       :125032                                     \n",
       " certified                       final_cc_cname_DI                 LoE_DI     \n",
       " 0:120637   United States                 :38799   Bachelor's         :55066  \n",
       " 1:  4440   India                         :21111   Doctorate          : 3051  \n",
       "            Other Europe                  : 9323   Less than Secondary: 2943  \n",
       "            Other Africa                  : 5816   Master's           :26739  \n",
       "            United Kingdom                : 4651   Secondary          :37278  \n",
       "            Other Middle East/Central Asia: 4141                              \n",
       "            (Other)                       :41236                              \n",
       " gender        grade            start_time_DI       last_event_DI   \n",
       "  : 7004   Min.   :0.00000   2013-01-23:  1265   2013-11-17:  1938  \n",
       " f:30323   1st Qu.:0.00000   2013-02-14:  1218   2013-03-13:  1313  \n",
       " m:87747   Median :0.00000   2013-03-03:  1198   2013-03-14:   957  \n",
       " o:    3   Mean   :0.04049   2012-08-17:   981   2012-10-16:   886  \n",
       "           3rd Qu.:0.00000   2013-02-15:   973   2012-10-15:   865  \n",
       "           Max.   :1.00000   2012-12-20:   953   2013-03-12:   849  \n",
       "                             (Other)   :118489   (Other)   :118269  \n",
       "    nevents        ndays_act        nplay_video       nchapters     \n",
       " Min.   :    0   Min.   :  0.000   Min.   :     1   Min.   : 0.000  \n",
       " 1st Qu.:    2   1st Qu.:  1.000   1st Qu.:    37   1st Qu.: 0.000  \n",
       " Median :   19   Median :  2.000   Median :197757   Median : 1.000  \n",
       " Mean   :  374   Mean   :  5.238   Mean   :121313   Mean   : 2.663  \n",
       " 3rd Qu.:  134   3rd Qu.:  4.000   3rd Qu.:197757   3rd Qu.: 3.000  \n",
       " Max.   :36244   Max.   :205.000   Max.   :197757   Max.   :48.000  \n",
       "                                                                    \n",
       "  nforum_posts     incomplete_flag        age       \n",
       " Min.   :0.00000   Min.   :0.00000   Min.   :-1.00  \n",
       " 1st Qu.:0.00000   1st Qu.:0.00000   1st Qu.:21.00  \n",
       " Median :0.00000   Median :0.00000   Median :25.00  \n",
       " Mean   :0.01802   Mean   :0.02901   Mean   :26.89  \n",
       " 3rd Qu.:0.00000   3rd Qu.:0.00000   3rd Qu.:30.00  \n",
       " Max.   :8.00000   Max.   :1.00000   Max.   :82.00  \n",
       "                                                    "
      ]
     },
     "metadata": {},
     "output_type": "display_data"
    }
   ],
   "source": [
    "summary(test)"
   ]
  },
  {
   "cell_type": "code",
   "execution_count": 62,
   "metadata": {},
   "outputs": [
    {
     "name": "stderr",
     "output_type": "stream",
     "text": [
      "Warning message in ni[1:m] * nj[1:m]:\n",
      "“NAs produced by integer overflow”"
     ]
    },
    {
     "name": "stdout",
     "output_type": "stream",
     "text": [
      "Confusion Matrix and Statistics\n",
      "\n",
      "          Reference\n",
      "Prediction      0      1\n",
      "         0 120438     77\n",
      "         1    199   4363\n",
      "                                         \n",
      "               Accuracy : 0.9978         \n",
      "                 95% CI : (0.9975, 0.998)\n",
      "    No Information Rate : 0.9645         \n",
      "    P-Value [Acc > NIR] : < 2.2e-16      \n",
      "                                         \n",
      "                  Kappa : NA             \n",
      " Mcnemar's Test P-Value : 3.256e-13      \n",
      "                                         \n",
      "            Sensitivity : 0.98266        \n",
      "            Specificity : 0.99835        \n",
      "         Pos Pred Value : 0.95638        \n",
      "         Neg Pred Value : 0.99936        \n",
      "             Prevalence : 0.03550        \n",
      "         Detection Rate : 0.03488        \n",
      "   Detection Prevalence : 0.03647        \n",
      "      Balanced Accuracy : 0.99050        \n",
      "                                         \n",
      "       'Positive' Class : 1              \n",
      "                                         \n"
     ]
    }
   ],
   "source": [
    "library(caret)\n",
    "print(confusionMatrix(data=predicted, reference=test$certified,positive='1'))"
   ]
  },
  {
   "cell_type": "code",
   "execution_count": 48,
   "metadata": {},
   "outputs": [
    {
     "data": {
      "text/plain": [
       "\n",
       "     0      1 \n",
       "120637   4440 "
      ]
     },
     "metadata": {},
     "output_type": "display_data"
    }
   ],
   "source": [
    "table(test$certified)"
   ]
  },
  {
   "cell_type": "code",
   "execution_count": null,
   "metadata": {
    "collapsed": true
   },
   "outputs": [],
   "source": []
  }
 ],
 "metadata": {
  "anaconda-cloud": {},
  "kernelspec": {
   "display_name": "R",
   "language": "R",
   "name": "ir"
  },
  "language_info": {
   "codemirror_mode": "r",
   "file_extension": ".r",
   "mimetype": "text/x-r-source",
   "name": "R",
   "pygments_lexer": "r",
   "version": "3.4.1"
  }
 },
 "nbformat": 4,
 "nbformat_minor": 1
}
