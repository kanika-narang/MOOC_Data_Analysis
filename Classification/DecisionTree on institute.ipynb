{
 "cells": [
  {
   "cell_type": "code",
   "execution_count": 1,
   "metadata": {
    "collapsed": true
   },
   "outputs": [],
   "source": [
    "data<-read.csv(\"/home/iiitb/DataAnalyticsProject/Data/big_student_clear_third_version.csv\", header=TRUE)"
   ]
  },
  {
   "cell_type": "code",
   "execution_count": 2,
   "metadata": {},
   "outputs": [
    {
     "data": {
      "text/html": [
       "'factor'"
      ],
      "text/latex": [
       "'factor'"
      ],
      "text/markdown": [
       "'factor'"
      ],
      "text/plain": [
       "[1] \"factor\""
      ]
     },
     "metadata": {},
     "output_type": "display_data"
    }
   ],
   "source": [
    "class(data$institute)"
   ]
  },
  {
   "cell_type": "code",
   "execution_count": 12,
   "metadata": {},
   "outputs": [],
   "source": [
    "library(dplyr)\n",
    "library(rpart)\n",
    "library(ggplot2)\n",
    "library(caret)\n"
   ]
  },
  {
   "cell_type": "code",
   "execution_count": 4,
   "metadata": {},
   "outputs": [
    {
     "data": {
      "text/html": [
       "<table>\n",
       "<thead><tr><th scope=col>X</th><th scope=col>institute</th><th scope=col>course_id</th><th scope=col>year</th><th scope=col>semester</th><th scope=col>userid_DI</th><th scope=col>viewed</th><th scope=col>explored</th><th scope=col>certified</th><th scope=col>final_cc_cname_DI</th><th scope=col>⋯</th><th scope=col>grade</th><th scope=col>start_time_DI</th><th scope=col>last_event_DI</th><th scope=col>nevents</th><th scope=col>ndays_act</th><th scope=col>nplay_video</th><th scope=col>nchapters</th><th scope=col>nforum_posts</th><th scope=col>incomplete_flag</th><th scope=col>age</th></tr></thead>\n",
       "<tbody>\n",
       "\t<tr><td> 4                            </td><td>HarvardX                      </td><td>PH207x                        </td><td>2012                          </td><td>Fall                          </td><td>MHxPC130313697                </td><td>0                             </td><td>0                             </td><td>0                             </td><td>India                         </td><td>⋯                             </td><td>0                             </td><td>2012-07-24                    </td><td>2013-07-27                    </td><td>  6                           </td><td>3                             </td><td>197757                        </td><td>0                             </td><td>0                             </td><td>0                             </td><td>23                            </td></tr>\n",
       "\t<tr><td> 6                            </td><td>HarvardX                      </td><td>PH207x                        </td><td>2012                          </td><td>Fall                          </td><td>MHxPC130237753                </td><td>1                             </td><td>0                             </td><td>0                             </td><td>United States                 </td><td>⋯                             </td><td>0                             </td><td>2012-07-24                    </td><td>2012-12-24                    </td><td>107                           </td><td>8                             </td><td>     7                        </td><td>2                             </td><td>0                             </td><td>0                             </td><td>19                            </td></tr>\n",
       "\t<tr><td> 7                            </td><td>HarvardX                      </td><td>CS50x                         </td><td>2012                          </td><td>Summer                        </td><td>MHxPC130202970                </td><td>1                             </td><td>0                             </td><td>0                             </td><td>United States                 </td><td>⋯                             </td><td>0                             </td><td>2012-07-24                    </td><td>2013-03-28                    </td><td>  8                           </td><td>1                             </td><td>197757                        </td><td>1                             </td><td>0                             </td><td>0                             </td><td>24                            </td></tr>\n",
       "\t<tr><td>20                            </td><td>HarvardX                      </td><td>CS50x                         </td><td>2012                          </td><td>Summer                        </td><td>MHxPC130223941                </td><td>1                             </td><td>0                             </td><td>0                             </td><td>Other Middle East/Central Asia</td><td>⋯                             </td><td>0                             </td><td>2012-07-24                    </td><td>2013-07-15                    </td><td> 25                           </td><td>2                             </td><td>197757                        </td><td>4                             </td><td>0                             </td><td>0                             </td><td>20                            </td></tr>\n",
       "\t<tr><td>22                            </td><td>HarvardX                      </td><td>PH207x                        </td><td>2012                          </td><td>Fall                          </td><td>MHxPC130317399                </td><td>0                             </td><td>0                             </td><td>0                             </td><td>Australia                     </td><td>⋯                             </td><td>0                             </td><td>2012-07-24                    </td><td>2012-08-25                    </td><td>  3                           </td><td>2                             </td><td>197757                        </td><td>0                             </td><td>0                             </td><td>0                             </td><td>32                            </td></tr>\n",
       "\t<tr><td>23                            </td><td>HarvardX                      </td><td>CS50x                         </td><td>2012                          </td><td>Summer                        </td><td>MHxPC130191782                </td><td>1                             </td><td>0                             </td><td>0                             </td><td>Pakistan                      </td><td>⋯                             </td><td>0                             </td><td>2012-07-24                    </td><td>2013-05-05                    </td><td>  2                           </td><td>2                             </td><td>197757                        </td><td>1                             </td><td>0                             </td><td>0                             </td><td>22                            </td></tr>\n",
       "</tbody>\n",
       "</table>\n"
      ],
      "text/latex": [
       "\\begin{tabular}{r|llllllllllllllllllllll}\n",
       " X & institute & course\\_id & year & semester & userid\\_DI & viewed & explored & certified & final\\_cc\\_cname\\_DI & ⋯ & grade & start\\_time\\_DI & last\\_event\\_DI & nevents & ndays\\_act & nplay\\_video & nchapters & nforum\\_posts & incomplete\\_flag & age\\\\\n",
       "\\hline\n",
       "\t  4                             & HarvardX                       & PH207x                         & 2012                           & Fall                           & MHxPC130313697                 & 0                              & 0                              & 0                              & India                          & ⋯                              & 0                              & 2012-07-24                     & 2013-07-27                     &   6                            & 3                              & 197757                         & 0                              & 0                              & 0                              & 23                            \\\\\n",
       "\t  6                             & HarvardX                       & PH207x                         & 2012                           & Fall                           & MHxPC130237753                 & 1                              & 0                              & 0                              & United States                  & ⋯                              & 0                              & 2012-07-24                     & 2012-12-24                     & 107                            & 8                              &      7                         & 2                              & 0                              & 0                              & 19                            \\\\\n",
       "\t  7                             & HarvardX                       & CS50x                          & 2012                           & Summer                         & MHxPC130202970                 & 1                              & 0                              & 0                              & United States                  & ⋯                              & 0                              & 2012-07-24                     & 2013-03-28                     &   8                            & 1                              & 197757                         & 1                              & 0                              & 0                              & 24                            \\\\\n",
       "\t 20                             & HarvardX                       & CS50x                          & 2012                           & Summer                         & MHxPC130223941                 & 1                              & 0                              & 0                              & Other Middle East/Central Asia & ⋯                              & 0                              & 2012-07-24                     & 2013-07-15                     &  25                            & 2                              & 197757                         & 4                              & 0                              & 0                              & 20                            \\\\\n",
       "\t 22                             & HarvardX                       & PH207x                         & 2012                           & Fall                           & MHxPC130317399                 & 0                              & 0                              & 0                              & Australia                      & ⋯                              & 0                              & 2012-07-24                     & 2012-08-25                     &   3                            & 2                              & 197757                         & 0                              & 0                              & 0                              & 32                            \\\\\n",
       "\t 23                             & HarvardX                       & CS50x                          & 2012                           & Summer                         & MHxPC130191782                 & 1                              & 0                              & 0                              & Pakistan                       & ⋯                              & 0                              & 2012-07-24                     & 2013-05-05                     &   2                            & 2                              & 197757                         & 1                              & 0                              & 0                              & 22                            \\\\\n",
       "\\end{tabular}\n"
      ],
      "text/markdown": [
       "\n",
       "X | institute | course_id | year | semester | userid_DI | viewed | explored | certified | final_cc_cname_DI | ⋯ | grade | start_time_DI | last_event_DI | nevents | ndays_act | nplay_video | nchapters | nforum_posts | incomplete_flag | age | \n",
       "|---|---|---|---|---|---|\n",
       "|  4                             | HarvardX                       | PH207x                         | 2012                           | Fall                           | MHxPC130313697                 | 0                              | 0                              | 0                              | India                          | ⋯                              | 0                              | 2012-07-24                     | 2013-07-27                     |   6                            | 3                              | 197757                         | 0                              | 0                              | 0                              | 23                             | \n",
       "|  6                             | HarvardX                       | PH207x                         | 2012                           | Fall                           | MHxPC130237753                 | 1                              | 0                              | 0                              | United States                  | ⋯                              | 0                              | 2012-07-24                     | 2012-12-24                     | 107                            | 8                              |      7                         | 2                              | 0                              | 0                              | 19                             | \n",
       "|  7                             | HarvardX                       | CS50x                          | 2012                           | Summer                         | MHxPC130202970                 | 1                              | 0                              | 0                              | United States                  | ⋯                              | 0                              | 2012-07-24                     | 2013-03-28                     |   8                            | 1                              | 197757                         | 1                              | 0                              | 0                              | 24                             | \n",
       "| 20                             | HarvardX                       | CS50x                          | 2012                           | Summer                         | MHxPC130223941                 | 1                              | 0                              | 0                              | Other Middle East/Central Asia | ⋯                              | 0                              | 2012-07-24                     | 2013-07-15                     |  25                            | 2                              | 197757                         | 4                              | 0                              | 0                              | 20                             | \n",
       "| 22                             | HarvardX                       | PH207x                         | 2012                           | Fall                           | MHxPC130317399                 | 0                              | 0                              | 0                              | Australia                      | ⋯                              | 0                              | 2012-07-24                     | 2012-08-25                     |   3                            | 2                              | 197757                         | 0                              | 0                              | 0                              | 32                             | \n",
       "| 23                             | HarvardX                       | CS50x                          | 2012                           | Summer                         | MHxPC130191782                 | 1                              | 0                              | 0                              | Pakistan                       | ⋯                              | 0                              | 2012-07-24                     | 2013-05-05                     |   2                            | 2                              | 197757                         | 1                              | 0                              | 0                              | 22                             | \n",
       "\n",
       "\n"
      ],
      "text/plain": [
       "  X  institute course_id year semester userid_DI      viewed explored certified\n",
       "1  4 HarvardX  PH207x    2012 Fall     MHxPC130313697 0      0        0        \n",
       "2  6 HarvardX  PH207x    2012 Fall     MHxPC130237753 1      0        0        \n",
       "3  7 HarvardX  CS50x     2012 Summer   MHxPC130202970 1      0        0        \n",
       "4 20 HarvardX  CS50x     2012 Summer   MHxPC130223941 1      0        0        \n",
       "5 22 HarvardX  PH207x    2012 Fall     MHxPC130317399 0      0        0        \n",
       "6 23 HarvardX  CS50x     2012 Summer   MHxPC130191782 1      0        0        \n",
       "  final_cc_cname_DI              ⋯ grade start_time_DI last_event_DI nevents\n",
       "1 India                          ⋯ 0     2012-07-24    2013-07-27      6    \n",
       "2 United States                  ⋯ 0     2012-07-24    2012-12-24    107    \n",
       "3 United States                  ⋯ 0     2012-07-24    2013-03-28      8    \n",
       "4 Other Middle East/Central Asia ⋯ 0     2012-07-24    2013-07-15     25    \n",
       "5 Australia                      ⋯ 0     2012-07-24    2012-08-25      3    \n",
       "6 Pakistan                       ⋯ 0     2012-07-24    2013-05-05      2    \n",
       "  ndays_act nplay_video nchapters nforum_posts incomplete_flag age\n",
       "1 3         197757      0         0            0               23 \n",
       "2 8              7      2         0            0               19 \n",
       "3 1         197757      1         0            0               24 \n",
       "4 2         197757      4         0            0               20 \n",
       "5 2         197757      0         0            0               32 \n",
       "6 2         197757      1         0            0               22 "
      ]
     },
     "metadata": {},
     "output_type": "display_data"
    }
   ],
   "source": [
    "head(data)"
   ]
  },
  {
   "cell_type": "code",
   "execution_count": 6,
   "metadata": {
    "collapsed": true
   },
   "outputs": [],
   "source": [
    "data_filtered<-select(data,institute,semester,viewed,explored,certified,final_cc_cname_DI,LoE_DI,gender,\n",
    "                      grade,start_time_DI,last_event_DI,nevents,ndays_act,nplay_video,nchapters,nforum_posts,incomplete_flag\n",
    "                     ,age)"
   ]
  },
  {
   "cell_type": "code",
   "execution_count": 7,
   "metadata": {},
   "outputs": [
    {
     "data": {
      "text/html": [
       "291844"
      ],
      "text/latex": [
       "291844"
      ],
      "text/markdown": [
       "291844"
      ],
      "text/plain": [
       "[1] 291844"
      ]
     },
     "metadata": {},
     "output_type": "display_data"
    },
    {
     "data": {
      "text/html": [
       "125077"
      ],
      "text/latex": [
       "125077"
      ],
      "text/markdown": [
       "125077"
      ],
      "text/plain": [
       "[1] 125077"
      ]
     },
     "metadata": {},
     "output_type": "display_data"
    }
   ],
   "source": [
    "set.seed(101) \n",
    "# Now Selecting 70% of data as sample from total 'n' rows of the data  \n",
    "sample <- sample.int(n = nrow(data_filtered), size = floor(.70*nrow(data)), replace = F)\n",
    "train <- data[sample, ]\n",
    "test  <- data[-sample, ]\n",
    "nrow(train)\n",
    "nrow(test)"
   ]
  },
  {
   "cell_type": "code",
   "execution_count": 19,
   "metadata": {},
   "outputs": [
    {
     "name": "stderr",
     "output_type": "stream",
     "text": [
      "The following objects are masked from data_filtered (pos = 3):\n",
      "\n",
      "    age, certified, explored, final_cc_cname_DI, gender, grade,\n",
      "    incomplete_flag, institute, last_event_DI, LoE_DI, nchapters,\n",
      "    ndays_act, nevents, nforum_posts, nplay_video, semester,\n",
      "    start_time_DI, viewed\n",
      "\n",
      "The following objects are masked from data_filtered (pos = 6):\n",
      "\n",
      "    age, certified, explored, final_cc_cname_DI, gender, grade,\n",
      "    incomplete_flag, institute, last_event_DI, LoE_DI, nchapters,\n",
      "    ndays_act, nevents, nforum_posts, nplay_video, semester,\n",
      "    start_time_DI, viewed\n",
      "\n"
     ]
    },
    {
     "data": {
      "text/plain": [
       "n= 291844 \n",
       "\n",
       "node), split, n, loss, yval, (yprob)\n",
       "      * denotes terminal node\n",
       "\n",
       "1) root 291844 123901 MITx (0.4245453 0.5754547)  \n",
       "  2) course_id=CB22x,CS50x,ER22x,PH207x,PH278x 123901      0 HarvardX (1.0000000 0.0000000) *\n",
       "  3) course_id=14.73x,2.01x,3.091x,6.002x,6.00x,7.00x,8.02x,8.MReV 167943      0 MITx (0.0000000 1.0000000) *"
      ]
     },
     "metadata": {},
     "output_type": "display_data"
    }
   ],
   "source": [
    "attach(data_filtered)\n",
    "dtfit <- rpart(institute~course_id+semester+final_cc_cname_DI+LoE_DI+gender+ age,data= train,method=\"class\")\n",
    "dtfit"
   ]
  },
  {
   "cell_type": "code",
   "execution_count": 20,
   "metadata": {},
   "outputs": [
    {
     "name": "stdout",
     "output_type": "stream",
     "text": [
      "Call:\n",
      "rpart(formula = institute ~ course_id + semester + final_cc_cname_DI + \n",
      "    LoE_DI + gender + age, data = train, method = \"class\")\n",
      "  n= 291844 \n",
      "\n",
      "    CP nsplit rel error xerror        xstd\n",
      "1 1.00      0         1      1 0.002155104\n",
      "2 0.01      1         0      0 0.000000000\n",
      "\n",
      "Variable importance\n",
      "        course_id            gender               age final_cc_cname_DI \n",
      "               80                 9                 4                 3 \n",
      "         semester            LoE_DI \n",
      "                2                 2 \n",
      "\n",
      "Node number 1: 291844 observations,    complexity param=1\n",
      "  predicted class=MITx      expected loss=0.4245453  P(node) =1\n",
      "    class counts: 123901 167943\n",
      "   probabilities: 0.425 0.575 \n",
      "  left son=2 (123901 obs) right son=3 (167943 obs)\n",
      "  Primary splits:\n",
      "      course_id         splits as  RRRRRRRRLLLLL, improve=142598.800, (0 missing)\n",
      "      gender            splits as  RLRL, improve=  5727.400, (0 missing)\n",
      "      age               < 25.5 to the right, improve=  4404.934, (0 missing)\n",
      "      final_cc_cname_DI splits as  LRLLLLRLLLRLLRRLLLLRLLRLRLRLRLRLLL, improve=  4067.242, (0 missing)\n",
      "      LoE_DI            splits as  RLRLR, improve=  1697.728, (0 missing)\n",
      "  Surrogate splits:\n",
      "      gender            splits as  RLRL, agree=0.624, adj=0.114, (0 split)\n",
      "      age               < 33.5 to the right, agree=0.596, adj=0.049, (0 split)\n",
      "      final_cc_cname_DI splits as  LRRLLRRRRLRRLRRLRLRRRLRRRLRRRRRRRL, agree=0.592, adj=0.040, (0 split)\n",
      "      semester          splits as  RRL, agree=0.589, adj=0.031, (0 split)\n",
      "      LoE_DI            splits as  RLRLR, agree=0.585, adj=0.023, (0 split)\n",
      "\n",
      "Node number 2: 123901 observations\n",
      "  predicted class=HarvardX  expected loss=0  P(node) =0.4245453\n",
      "    class counts: 123901     0\n",
      "   probabilities: 1.000 0.000 \n",
      "\n",
      "Node number 3: 167943 observations\n",
      "  predicted class=MITx      expected loss=0  P(node) =0.5754547\n",
      "    class counts:     0 167943\n",
      "   probabilities: 0.000 1.000 \n",
      "\n"
     ]
    }
   ],
   "source": [
    "summary(dtfit)"
   ]
  },
  {
   "cell_type": "code",
   "execution_count": 21,
   "metadata": {
    "collapsed": true
   },
   "outputs": [],
   "source": [
    "predicted<-predict(dtfit,test,type=\"class\")"
   ]
  },
  {
   "cell_type": "code",
   "execution_count": 23,
   "metadata": {},
   "outputs": [
    {
     "name": "stderr",
     "output_type": "stream",
     "text": [
      "Warning message in ni[1:m] * nj[1:m]:\n",
      "“NAs produced by integer overflow”"
     ]
    },
    {
     "data": {
      "text/plain": [
       "Confusion Matrix and Statistics\n",
       "\n",
       "          Reference\n",
       "Prediction HarvardX  MITx\n",
       "  HarvardX    52901     0\n",
       "  MITx            0 72176\n",
       "                                   \n",
       "               Accuracy : 1        \n",
       "                 95% CI : (1, 1)   \n",
       "    No Information Rate : 0.5771   \n",
       "    P-Value [Acc > NIR] : < 2.2e-16\n",
       "                                   \n",
       "                  Kappa : NA       \n",
       " Mcnemar's Test P-Value : NA       \n",
       "                                   \n",
       "            Sensitivity : 1.0000   \n",
       "            Specificity : 1.0000   \n",
       "         Pos Pred Value : 1.0000   \n",
       "         Neg Pred Value : 1.0000   \n",
       "             Prevalence : 0.4229   \n",
       "         Detection Rate : 0.4229   \n",
       "   Detection Prevalence : 0.4229   \n",
       "      Balanced Accuracy : 1.0000   \n",
       "                                   \n",
       "       'Positive' Class : HarvardX \n",
       "                                   "
      ]
     },
     "metadata": {},
     "output_type": "display_data"
    }
   ],
   "source": [
    "confusionMatrix(data=predicted, reference=test$institute)"
   ]
  },
  {
   "cell_type": "code",
   "execution_count": 24,
   "metadata": {},
   "outputs": [
    {
     "name": "stderr",
     "output_type": "stream",
     "text": [
      "Warning message in ni[1:m] * nj[1:m]:\n",
      "“NAs produced by integer overflow”"
     ]
    },
    {
     "data": {
      "text/plain": [
       "Confusion Matrix and Statistics\n",
       "\n",
       "          Reference\n",
       "Prediction HarvardX  MITx\n",
       "  HarvardX    19573 10150\n",
       "  MITx        33328 62026\n",
       "                                         \n",
       "               Accuracy : 0.6524         \n",
       "                 95% CI : (0.6497, 0.655)\n",
       "    No Information Rate : 0.5771         \n",
       "    P-Value [Acc > NIR] : < 2.2e-16      \n",
       "                                         \n",
       "                  Kappa : NA             \n",
       " Mcnemar's Test P-Value : < 2.2e-16      \n",
       "                                         \n",
       "            Sensitivity : 0.3700         \n",
       "            Specificity : 0.8594         \n",
       "         Pos Pred Value : 0.6585         \n",
       "         Neg Pred Value : 0.6505         \n",
       "             Prevalence : 0.4229         \n",
       "         Detection Rate : 0.1565         \n",
       "   Detection Prevalence : 0.2376         \n",
       "      Balanced Accuracy : 0.6147         \n",
       "                                         \n",
       "       'Positive' Class : HarvardX       \n",
       "                                         "
      ]
     },
     "metadata": {},
     "output_type": "display_data"
    }
   ],
   "source": [
    "dtfit2 <- rpart(institute~semester+final_cc_cname_DI+LoE_DI+gender+ age,data= train,method=\"class\")\n",
    "predicted2<-predict(dtfit2,test,type=\"class\")\n",
    "confusionMatrix(data=predicted2, reference=test$institute)"
   ]
  },
  {
   "cell_type": "code",
   "execution_count": null,
   "metadata": {
    "collapsed": true
   },
   "outputs": [],
   "source": []
  }
 ],
 "metadata": {
  "anaconda-cloud": {},
  "kernelspec": {
   "display_name": "R",
   "language": "R",
   "name": "ir"
  },
  "language_info": {
   "codemirror_mode": "r",
   "file_extension": ".r",
   "mimetype": "text/x-r-source",
   "name": "R",
   "pygments_lexer": "r",
   "version": "3.4.1"
  }
 },
 "nbformat": 4,
 "nbformat_minor": 1
}
